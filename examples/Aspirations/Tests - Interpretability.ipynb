{
 "cells": [
  {
   "cell_type": "code",
   "execution_count": 1,
   "id": "6c3d1450",
   "metadata": {},
   "outputs": [],
   "source": [
    "from tqdm.notebook import tqdm\n",
    "import os\n",
    "import sys\n",
    "import random\n",
    "import numpy as np\n",
    "import pandas as pd\n",
    "\n",
    "git_dir = r\"C:/Users/Aditya/GitHub/isquash\"\n",
    "#git_dir = \"/Users/adityachhabra/Github/isquash\"\n",
    "sys.path.append(git_dir)\n",
    "sys.path.append(os.path.join(git_dir,'isquash'))\n",
    "pd.set_option('display.max_columns',500)"
   ]
  },
  {
   "cell_type": "code",
   "execution_count": 2,
   "id": "135430fa",
   "metadata": {},
   "outputs": [],
   "source": [
    "from isquash import nlpmodel, preprocessing, evaluation, crossval, tests"
   ]
  },
  {
   "cell_type": "code",
   "execution_count": 3,
   "id": "c924ac97",
   "metadata": {},
   "outputs": [],
   "source": [
    "enhanced_data = pd.read_csv(\"data/enhanced_bootstrap_mean.csv\")\n",
    "quant_df      = pd.read_csv(\"data/quant_data.csv\")"
   ]
  },
  {
   "cell_type": "markdown",
   "id": "1ea4e1f5",
   "metadata": {},
   "source": [
    "### Variables"
   ]
  },
  {
   "cell_type": "code",
   "execution_count": 4,
   "id": "61800ceb",
   "metadata": {},
   "outputs": [],
   "source": [
    "annotation_vars = [\n",
    "     \"ability_high\",\n",
    "     \"ability_low\",\n",
    "     \"awareness_information_high\",\n",
    "     \"awareness_information_low\",\n",
    "     \"budget_high\",\n",
    "     \"budget_low\",\n",
    "     \"camp_regulations\",\n",
    "     \"covid_impacts\",\n",
    "     \"education_high\",\n",
    "     \"education_low\",\n",
    "     \"education_neutral\",\n",
    "     \"education_religious\",\n",
    "     \"entrepreneur\",\n",
    "     \"job_secular\",\n",
    "     \"marriage\",\n",
    "     \"migration\",\n",
    "     \"no_ambition\",\n",
    "     \"public_assistance\",\n",
    "     \"reliance_on_god\",\n",
    "     \"religious\",\n",
    "     \"secular\",\n",
    "     \"vague_job\",\n",
    "     \"vague_non_specific\",\n",
    "     \"vocational_training\",\n",
    "     \"worries_anxieties\",\n",
    "    ]\n",
    "# TODO: Add Note to explain suffixes\n",
    "human_annotation_vars = [c+\"_act\" for c in annotation_vars]"
   ]
  },
  {
   "cell_type": "code",
   "execution_count": 5,
   "id": "24b23b23",
   "metadata": {},
   "outputs": [],
   "source": [
    "id_vars_human    = ['uid','data_round','refugee_status']\n",
    "id_vars_enhanced = ['uid','data_round','refugee_status','bootstrap_run']"
   ]
  },
  {
   "cell_type": "markdown",
   "id": "a737e6a3",
   "metadata": {},
   "source": [
    "### Human Annotated Dataframe (Merged with quantiative data)"
   ]
  },
  {
   "cell_type": "code",
   "execution_count": 6,
   "id": "1612ec87",
   "metadata": {},
   "outputs": [],
   "source": [
    "human_df = enhanced_data.loc[enhanced_data.annotated==1,[*id_vars_human,*human_annotation_vars]].copy()\n",
    "human_df = human_df.rename(columns={c+\"_act\":c for c in annotation_vars}).drop_duplicates()\n",
    "human_df = pd.merge(human_df,quant_df,on=['uid','data_round'],how='left')\n",
    "\n",
    "human_df['sample_type'] = 'Human'"
   ]
  },
  {
   "cell_type": "markdown",
   "id": "aab6d862",
   "metadata": {},
   "source": [
    "### Enhanced Dataframe (Merged with quantiative data)"
   ]
  },
  {
   "cell_type": "code",
   "execution_count": 7,
   "id": "1a229676",
   "metadata": {},
   "outputs": [],
   "source": [
    "enhanced_df = enhanced_data[[*id_vars_enhanced,*annotation_vars]].copy()\n",
    "enhanced_df = pd.merge(enhanced_df,quant_df,on=['uid','data_round'],how='left')\n",
    "\n",
    "enhanced_df['sample_type'] = 'Enhanced'"
   ]
  },
  {
   "cell_type": "markdown",
   "id": "9de75124",
   "metadata": {},
   "source": [
    "### Interpretability"
   ]
  },
  {
   "cell_type": "code",
   "execution_count": 8,
   "id": "b3c303df",
   "metadata": {},
   "outputs": [],
   "source": [
    "# Categorical regressors\n",
    "categorical_vars     = ['refugee','hh_head_sex','eld_sex','parent_reledu','data_round']\n",
    "\n",
    "# Continuous regressors\n",
    "continuous_vars = [\n",
    "     'num_child',\n",
    "     'hh_head_age',\n",
    "     'parent_eduyears',\n",
    "     'eld_age',\n",
    "     'hh_asset_index',\n",
    "     'hh_income',\n",
    "     'int_trauma_exp',\n",
    "]"
   ]
  },
  {
   "cell_type": "markdown",
   "id": "a810649d",
   "metadata": {},
   "source": [
    "### Interpretability tests on Human Data"
   ]
  },
  {
   "cell_type": "code",
   "execution_count": 200,
   "id": "75e72c26",
   "metadata": {},
   "outputs": [
    {
     "data": {
      "text/html": [
       "<div>\n",
       "<style scoped>\n",
       "    .dataframe tbody tr th:only-of-type {\n",
       "        vertical-align: middle;\n",
       "    }\n",
       "\n",
       "    .dataframe tbody tr th {\n",
       "        vertical-align: top;\n",
       "    }\n",
       "\n",
       "    .dataframe thead th {\n",
       "        text-align: right;\n",
       "    }\n",
       "</style>\n",
       "<table border=\"1\" class=\"dataframe\">\n",
       "  <thead>\n",
       "    <tr style=\"text-align: right;\">\n",
       "      <th></th>\n",
       "      <th>annotation</th>\n",
       "      <th>fstat</th>\n",
       "      <th>log_fstat</th>\n",
       "      <th>pval</th>\n",
       "      <th>sample_type</th>\n",
       "    </tr>\n",
       "  </thead>\n",
       "  <tbody>\n",
       "    <tr>\n",
       "      <th>0</th>\n",
       "      <td>worries_anxieties</td>\n",
       "      <td>5.024955</td>\n",
       "      <td>1.614417</td>\n",
       "      <td>4.787082e-08</td>\n",
       "      <td>Human</td>\n",
       "    </tr>\n",
       "    <tr>\n",
       "      <th>1</th>\n",
       "      <td>vocational_training</td>\n",
       "      <td>0.873789</td>\n",
       "      <td>-0.134917</td>\n",
       "      <td>5.737753e-01</td>\n",
       "      <td>Human</td>\n",
       "    </tr>\n",
       "    <tr>\n",
       "      <th>2</th>\n",
       "      <td>vague_non_specific</td>\n",
       "      <td>11.329886</td>\n",
       "      <td>2.427444</td>\n",
       "      <td>6.542234e-21</td>\n",
       "      <td>Human</td>\n",
       "    </tr>\n",
       "    <tr>\n",
       "      <th>3</th>\n",
       "      <td>vague_job</td>\n",
       "      <td>5.485263</td>\n",
       "      <td>1.702065</td>\n",
       "      <td>5.618896e-09</td>\n",
       "      <td>Human</td>\n",
       "    </tr>\n",
       "    <tr>\n",
       "      <th>4</th>\n",
       "      <td>secular</td>\n",
       "      <td>2.601944</td>\n",
       "      <td>0.956259</td>\n",
       "      <td>2.148217e-03</td>\n",
       "      <td>Human</td>\n",
       "    </tr>\n",
       "  </tbody>\n",
       "</table>\n",
       "</div>"
      ],
      "text/plain": [
       "            annotation      fstat  log_fstat          pval sample_type\n",
       "0    worries_anxieties   5.024955   1.614417  4.787082e-08       Human\n",
       "1  vocational_training   0.873789  -0.134917  5.737753e-01       Human\n",
       "2   vague_non_specific  11.329886   2.427444  6.542234e-21       Human\n",
       "3            vague_job   5.485263   1.702065  5.618896e-09       Human\n",
       "4              secular   2.601944   0.956259  2.148217e-03       Human"
      ]
     },
     "execution_count": 200,
     "metadata": {},
     "output_type": "execute_result"
    }
   ],
   "source": [
    "interpreter = tests.Interpretability(human_df,\n",
    "                                     annotation_vars=annotation_vars,\n",
    "                                     categorical_regressors=categorical_vars,\n",
    "                                     continuous_regressors=continuous_vars,\n",
    "                ).fit_all()\n",
    "\n",
    "human_interp_df = interpreter.get_results()\n",
    "human_interp_df['sample_type'] = 'Human'\n",
    "\n",
    "human_interp_df.head(5)"
   ]
  },
  {
   "cell_type": "markdown",
   "id": "d8242ce6",
   "metadata": {},
   "source": [
    "### Interpretability tests on Enhanced Data (Looping over Bootstrap runs)"
   ]
  },
  {
   "cell_type": "code",
   "execution_count": 10,
   "id": "fcc8612c",
   "metadata": {},
   "outputs": [
    {
     "data": {
      "application/vnd.jupyter.widget-view+json": {
       "model_id": "d1cffe3db25f45e98e5ba57a579d3505",
       "version_major": 2,
       "version_minor": 0
      },
      "text/plain": [
       "  0%|          | 0/25 [00:00<?, ?it/s]"
      ]
     },
     "metadata": {},
     "output_type": "display_data"
    }
   ],
   "source": [
    "enh_interp_dfs = []\n",
    "\n",
    "bootstrap_runs = enhanced_df['bootstrap_run'].unique()\n",
    "\n",
    "pbar = tqdm(total=len(bootstrap_runs))\n",
    "\n",
    "for b in bootstrap_runs:\n",
    "    interpreter = tests.Interpretability(enhanced_df[enhanced_df['bootstrap_run']==b],\n",
    "                                         annotation_vars=annotation_vars,\n",
    "                                         categorical_regressors=categorical_vars,\n",
    "                                         continuous_regressors=continuous_vars,\n",
    "                    ).fit_all()\n",
    "    \n",
    "    interp_df = interpreter.get_results()\n",
    "    interp_df['bootstrap_run'] = b\n",
    "    \n",
    "    enh_interp_dfs.append(interp_df)\n",
    "    pbar.update(1)\n",
    "    \n",
    "enhanced_interp_df = pd.concat(enh_interp_dfs)    \n",
    "enhanced_interp_df['sample_type'] = 'Enhanced'"
   ]
  },
  {
   "cell_type": "code",
   "execution_count": 11,
   "id": "bfd50a24",
   "metadata": {},
   "outputs": [
    {
     "data": {
      "text/html": [
       "<div>\n",
       "<style scoped>\n",
       "    .dataframe tbody tr th:only-of-type {\n",
       "        vertical-align: middle;\n",
       "    }\n",
       "\n",
       "    .dataframe tbody tr th {\n",
       "        vertical-align: top;\n",
       "    }\n",
       "\n",
       "    .dataframe thead th {\n",
       "        text-align: right;\n",
       "    }\n",
       "</style>\n",
       "<table border=\"1\" class=\"dataframe\">\n",
       "  <thead>\n",
       "    <tr style=\"text-align: right;\">\n",
       "      <th></th>\n",
       "      <th>annotation</th>\n",
       "      <th>fstat</th>\n",
       "      <th>log_fstat</th>\n",
       "      <th>pval</th>\n",
       "      <th>sample_type</th>\n",
       "      <th>bootstrap_run</th>\n",
       "    </tr>\n",
       "  </thead>\n",
       "  <tbody>\n",
       "    <tr>\n",
       "      <th>0</th>\n",
       "      <td>worries_anxieties</td>\n",
       "      <td>10.363416</td>\n",
       "      <td>2.338282</td>\n",
       "      <td>3.566963e-20</td>\n",
       "      <td>Enhanced</td>\n",
       "      <td>9.0</td>\n",
       "    </tr>\n",
       "    <tr>\n",
       "      <th>1</th>\n",
       "      <td>worries_anxieties</td>\n",
       "      <td>10.808631</td>\n",
       "      <td>2.380345</td>\n",
       "      <td>3.477490e-21</td>\n",
       "      <td>Enhanced</td>\n",
       "      <td>1.0</td>\n",
       "    </tr>\n",
       "    <tr>\n",
       "      <th>2</th>\n",
       "      <td>worries_anxieties</td>\n",
       "      <td>12.262950</td>\n",
       "      <td>2.506582</td>\n",
       "      <td>1.710019e-24</td>\n",
       "      <td>Enhanced</td>\n",
       "      <td>11.0</td>\n",
       "    </tr>\n",
       "    <tr>\n",
       "      <th>3</th>\n",
       "      <td>worries_anxieties</td>\n",
       "      <td>6.972158</td>\n",
       "      <td>1.941925</td>\n",
       "      <td>1.514813e-12</td>\n",
       "      <td>Enhanced</td>\n",
       "      <td>12.0</td>\n",
       "    </tr>\n",
       "    <tr>\n",
       "      <th>4</th>\n",
       "      <td>worries_anxieties</td>\n",
       "      <td>12.621941</td>\n",
       "      <td>2.535437</td>\n",
       "      <td>2.604177e-25</td>\n",
       "      <td>Enhanced</td>\n",
       "      <td>13.0</td>\n",
       "    </tr>\n",
       "  </tbody>\n",
       "</table>\n",
       "</div>"
      ],
      "text/plain": [
       "          annotation      fstat  log_fstat          pval sample_type  \\\n",
       "0  worries_anxieties  10.363416   2.338282  3.566963e-20    Enhanced   \n",
       "1  worries_anxieties  10.808631   2.380345  3.477490e-21    Enhanced   \n",
       "2  worries_anxieties  12.262950   2.506582  1.710019e-24    Enhanced   \n",
       "3  worries_anxieties   6.972158   1.941925  1.514813e-12    Enhanced   \n",
       "4  worries_anxieties  12.621941   2.535437  2.604177e-25    Enhanced   \n",
       "\n",
       "   bootstrap_run  \n",
       "0            9.0  \n",
       "1            1.0  \n",
       "2           11.0  \n",
       "3           12.0  \n",
       "4           13.0  "
      ]
     },
     "execution_count": 11,
     "metadata": {},
     "output_type": "execute_result"
    }
   ],
   "source": [
    "interpret_data = pd.concat([human_interp_df,enhanced_interp_df]).sort_values('annotation',ascending=False,ignore_index=True)\n",
    "interpret_data.head(5)"
   ]
  },
  {
   "cell_type": "markdown",
   "id": "950c89cb",
   "metadata": {},
   "source": [
    "### Calculate Differences"
   ]
  },
  {
   "cell_type": "code",
   "execution_count": 49,
   "id": "57ad9f89",
   "metadata": {},
   "outputs": [],
   "source": [
    "enhanced_avg_df = enhanced_interp_df.groupby('annotation')['log_fstat'].mean().reset_index()\n",
    "enhanced_avg_df['sample_type'] = 'Enhanced'"
   ]
  },
  {
   "cell_type": "code",
   "execution_count": 99,
   "id": "e95d4735",
   "metadata": {},
   "outputs": [],
   "source": [
    "enhanced_avg_dict =  dict(enhanced_avg_df[['annotation','log_fstat']].values)\n",
    "human_avg_dict    =  dict(human_interp_df[['annotation','log_fstat']].values)"
   ]
  },
  {
   "cell_type": "markdown",
   "id": "b7a0f14d",
   "metadata": {},
   "source": [
    "### Visualize"
   ]
  },
  {
   "cell_type": "code",
   "execution_count": null,
   "id": "19150b4e",
   "metadata": {},
   "outputs": [],
   "source": [
    "import plotly.express as px\n",
    "import plotly.graph_objects as go"
   ]
  },
  {
   "cell_type": "code",
   "execution_count": 208,
   "id": "a42e0c0b",
   "metadata": {},
   "outputs": [
    {
     "data": {
      "application/vnd.plotly.v1+json": {
       "config": {
        "plotlyServerURL": "https://plot.ly"
       },
       "data": [
        {
         "line": {
          "color": "lightgreen"
         },
         "mode": "lines",
         "name": "Difference",
         "showlegend": false,
         "type": "scatter",
         "x": [
          2.4099384751342106,
          1.6144165963588077
         ],
         "y": [
          "worries_anxieties",
          "worries_anxieties"
         ]
        },
        {
         "line": {
          "color": "lightgreen"
         },
         "mode": "lines",
         "name": "Difference",
         "showlegend": false,
         "type": "scatter",
         "x": [
          0.5627851068972697,
          -0.13491680999464079
         ],
         "y": [
          "vocational_training",
          "vocational_training"
         ]
        },
        {
         "line": {
          "color": "lightgreen"
         },
         "mode": "lines",
         "name": "Difference",
         "showlegend": false,
         "type": "scatter",
         "x": [
          3.222740368750383,
          2.4274440285149477
         ],
         "y": [
          "vague_non_specific",
          "vague_non_specific"
         ]
        },
        {
         "line": {
          "color": "lightgreen"
         },
         "mode": "lines",
         "name": "Difference",
         "showlegend": false,
         "type": "scatter",
         "x": [
          2.408482206043707,
          1.7020650603821303
         ],
         "y": [
          "vague_job",
          "vague_job"
         ]
        },
        {
         "line": {
          "color": "lightgreen"
         },
         "mode": "lines",
         "name": "Difference",
         "showlegend": false,
         "type": "scatter",
         "x": [
          2.239262789461799,
          0.956258849222682
         ],
         "y": [
          "secular",
          "secular"
         ]
        },
        {
         "line": {
          "color": "lightgreen"
         },
         "mode": "lines",
         "name": "Difference",
         "showlegend": false,
         "type": "scatter",
         "x": [
          1.9569557523939833,
          1.1134174323119375
         ],
         "y": [
          "religious",
          "religious"
         ]
        },
        {
         "line": {
          "color": "lightgreen"
         },
         "mode": "lines",
         "name": "Difference",
         "showlegend": false,
         "type": "scatter",
         "x": [
          1.5832531037789976,
          1.437454111543578
         ],
         "y": [
          "reliance_on_god",
          "reliance_on_god"
         ]
        },
        {
         "line": {
          "color": "lightgreen"
         },
         "mode": "lines",
         "name": "Difference",
         "showlegend": false,
         "type": "scatter",
         "x": [
          1.9188075653425596,
          1.3761223855393043
         ],
         "y": [
          "public_assistance",
          "public_assistance"
         ]
        },
        {
         "line": {
          "color": "red"
         },
         "mode": "lines",
         "name": "Difference",
         "showlegend": false,
         "type": "scatter",
         "x": [
          1.302438532380255,
          1.358609368883312
         ],
         "y": [
          "no_ambition",
          "no_ambition"
         ]
        },
        {
         "line": {
          "color": "lightgreen"
         },
         "mode": "lines",
         "name": "Difference",
         "showlegend": false,
         "type": "scatter",
         "x": [
          1.013766565869335,
          0.7056840929202763
         ],
         "y": [
          "migration",
          "migration"
         ]
        },
        {
         "line": {
          "color": "lightgreen"
         },
         "mode": "lines",
         "name": "Difference",
         "showlegend": false,
         "type": "scatter",
         "x": [
          3.0296033576368693,
          1.8243860535237932
         ],
         "y": [
          "marriage",
          "marriage"
         ]
        },
        {
         "line": {
          "color": "lightgreen"
         },
         "mode": "lines",
         "name": "Difference",
         "showlegend": false,
         "type": "scatter",
         "x": [
          2.3760318553292565,
          1.772134398803305
         ],
         "y": [
          "job_secular",
          "job_secular"
         ]
        },
        {
         "line": {
          "color": "lightgreen"
         },
         "mode": "lines",
         "name": "Difference",
         "showlegend": false,
         "type": "scatter",
         "x": [
          1.897008064024456,
          0.9030694802712453
         ],
         "y": [
          "entrepreneur",
          "entrepreneur"
         ]
        },
        {
         "line": {
          "color": "lightgreen"
         },
         "mode": "lines",
         "name": "Difference",
         "showlegend": false,
         "type": "scatter",
         "x": [
          2.134502721998992,
          1.2975518704294084
         ],
         "y": [
          "education_religious",
          "education_religious"
         ]
        },
        {
         "line": {
          "color": "lightgreen"
         },
         "mode": "lines",
         "name": "Difference",
         "showlegend": false,
         "type": "scatter",
         "x": [
          4.163421730980032,
          2.9527507869754532
         ],
         "y": [
          "education_neutral",
          "education_neutral"
         ]
        },
        {
         "line": {
          "color": "lightgreen"
         },
         "mode": "lines",
         "name": "Difference",
         "showlegend": false,
         "type": "scatter",
         "x": [
          3.2917955540006942,
          1.8857121793958227
         ],
         "y": [
          "education_low",
          "education_low"
         ]
        },
        {
         "line": {
          "color": "lightgreen"
         },
         "mode": "lines",
         "name": "Difference",
         "showlegend": false,
         "type": "scatter",
         "x": [
          2.4526063529880515,
          1.6758360713841653
         ],
         "y": [
          "education_high",
          "education_high"
         ]
        },
        {
         "line": {
          "color": "lightgreen"
         },
         "mode": "lines",
         "name": "Difference",
         "showlegend": false,
         "type": "scatter",
         "x": [
          0.4941896735478699,
          -0.40320995230331125
         ],
         "y": [
          "covid_impacts",
          "covid_impacts"
         ]
        },
        {
         "line": {
          "color": "lightgreen"
         },
         "mode": "lines",
         "name": "Difference",
         "showlegend": false,
         "type": "scatter",
         "x": [
          2.2381255883447877,
          1.6609553918254576
         ],
         "y": [
          "camp_regulations",
          "camp_regulations"
         ]
        },
        {
         "line": {
          "color": "lightgreen"
         },
         "mode": "lines",
         "name": "Difference",
         "showlegend": false,
         "type": "scatter",
         "x": [
          2.9865850127719353,
          2.0944572986201417
         ],
         "y": [
          "budget_low",
          "budget_low"
         ]
        },
        {
         "line": {
          "color": "lightgreen"
         },
         "mode": "lines",
         "name": "Difference",
         "showlegend": false,
         "type": "scatter",
         "x": [
          2.73906735457343,
          1.6082212727977923
         ],
         "y": [
          "budget_high",
          "budget_high"
         ]
        },
        {
         "line": {
          "color": "lightgreen"
         },
         "mode": "lines",
         "name": "Difference",
         "showlegend": false,
         "type": "scatter",
         "x": [
          0.8419001879523037,
          0.3007431798189424
         ],
         "y": [
          "awareness_information_low",
          "awareness_information_low"
         ]
        },
        {
         "line": {
          "color": "lightgreen"
         },
         "mode": "lines",
         "name": "Difference",
         "showlegend": false,
         "type": "scatter",
         "x": [
          1.9603393857110012,
          1.4396640401325242
         ],
         "y": [
          "awareness_information_high",
          "awareness_information_high"
         ]
        },
        {
         "line": {
          "color": "lightgreen"
         },
         "mode": "lines",
         "name": "Difference",
         "showlegend": false,
         "type": "scatter",
         "x": [
          1.5539394101386628,
          0.7549206298114058
         ],
         "y": [
          "ability_low",
          "ability_low"
         ]
        },
        {
         "line": {
          "color": "lightgreen"
         },
         "mode": "lines",
         "name": "Difference",
         "showlegend": false,
         "type": "scatter",
         "x": [
          2.711731302439058,
          1.2778170634478774
         ],
         "y": [
          "ability_high",
          "ability_high"
         ]
        },
        {
         "marker": {
          "color": "black",
          "line": {
           "width": 1
          },
          "size": 10,
          "symbol": "cross-thin"
         },
         "mode": "markers",
         "name": "Human",
         "type": "scatter",
         "x": [
          1.6144165963588077,
          -0.13491680999464079,
          2.4274440285149477,
          1.7020650603821303,
          0.956258849222682,
          1.1134174323119375,
          1.437454111543578,
          1.3761223855393043,
          1.358609368883312,
          0.7056840929202763,
          1.8243860535237932,
          1.772134398803305,
          0.9030694802712453,
          1.2975518704294084,
          2.9527507869754532,
          1.8857121793958227,
          1.6758360713841653,
          -0.40320995230331125,
          1.6609553918254576,
          2.0944572986201417,
          1.6082212727977923,
          0.3007431798189424,
          1.4396640401325242,
          0.7549206298114058,
          1.2778170634478774
         ],
         "y": [
          "worries_anxieties",
          "vocational_training",
          "vague_non_specific",
          "vague_job",
          "secular",
          "religious",
          "reliance_on_god",
          "public_assistance",
          "no_ambition",
          "migration",
          "marriage",
          "job_secular",
          "entrepreneur",
          "education_religious",
          "education_neutral",
          "education_low",
          "education_high",
          "covid_impacts",
          "camp_regulations",
          "budget_low",
          "budget_high",
          "awareness_information_low",
          "awareness_information_high",
          "ability_low",
          "ability_high"
         ]
        },
        {
         "marker": {
          "color": "black",
          "line": {
           "width": 1
          },
          "opacity": 0.5,
          "size": 5,
          "symbol": "circle-open"
         },
         "mode": "markers",
         "name": "Enhanced",
         "type": "scatter",
         "x": [
          2.338281872968259,
          2.3803450240227004,
          2.5065824848552283,
          1.9419247349617375,
          2.535436618941858,
          2.5035229246135624,
          2.5046413700457624,
          2.775323588709688,
          2.542743610309025,
          1.9797555254048071,
          2.404557779629842,
          2.4745175561976005,
          2.2639884447361736,
          2.5575128175287323,
          2.552371886455798,
          2.304468840876669,
          2.459437491975366,
          2.3602212763266777,
          2.5630128281264724,
          2.356045828548438,
          2.461867135813214,
          2.4710585062712247,
          2.069374461891848,
          2.3980442590803195,
          2.54342501006426,
          0.7354894463333214,
          0.7021418042250752,
          0.17878433445093808,
          0.7028196570195896,
          0.6400481791196968,
          0.7393408505775689,
          0.24750500309769655,
          0.7039143406049115,
          0.6883743381040213,
          0.7224655814745626,
          0.480658917318706,
          0.162731354511703,
          0.4519444489921447,
          0.5306901599459511,
          0.4728229016219591,
          0.4588286597855765,
          0.7088621072049927,
          0.585082110874256,
          0.6858325515188028,
          0.4661520935727847,
          0.6843978606840031,
          0.5707250685017515,
          0.49598994188146667,
          0.5467432407319994,
          0.7072827202782638,
          3.416181625305768,
          3.2956109876518838,
          3.173624992860571,
          3.3330971910899363,
          3.199822675672101,
          3.257576006893354,
          3.2426744944553527,
          3.1716182663128114,
          3.1675844341643566,
          2.8000021879640045,
          3.2326357394425065,
          3.304954912331299,
          3.2623728483698415,
          2.8243990086634656,
          3.2771944629408654,
          3.1207622400593156,
          3.0832075410239126,
          3.1505123772158377,
          3.456076124791263,
          3.1764841595062285,
          3.480037798366398,
          3.325829537377148,
          3.492323868116918,
          3.169442709479421,
          3.154483028705012,
          2.3858093401407325,
          2.3678180466070025,
          2.424585543199349,
          2.2472379396346,
          2.3064812243290476,
          2.4257549417565696,
          2.433469497332023,
          2.369819919600687,
          2.3803930212965865,
          2.405352684826808,
          2.6324070539219946,
          2.4179758748383016,
          2.39845673573506,
          2.6819521953966983,
          2.6706725835988254,
          2.413326210254146,
          2.3784738397318237,
          2.4184694347252145,
          2.3518273963612737,
          2.424053626366181,
          2.2533728801720496,
          2.2302314818194895,
          2.540650408366848,
          2.410284423088189,
          2.243178847993183,
          2.3402366357037527,
          2.143299376202044,
          2.2260396984349473,
          2.2104834607169823,
          2.223841586967904,
          2.1625568255343537,
          2.143623554974072,
          2.2092926764931082,
          2.202846212938504,
          2.2436325482911466,
          2.242956179922561,
          2.335395262784221,
          1.8353941843024488,
          2.3416224775069994,
          2.29250486145456,
          2.237196037884629,
          2.184601786332375,
          2.3385227331213594,
          2.2211697765017777,
          2.2219649377234414,
          2.3299339725608146,
          2.519435209556684,
          2.3840335242293347,
          2.0687696959648187,
          2.3222165204421352,
          2.0259378451755854,
          1.8026892826073704,
          1.9880068860558522,
          1.9940942439129843,
          1.9295965478712491,
          1.9294411539731218,
          2.0579332256281595,
          1.890747082794738,
          2.025521269343829,
          1.8953461681191561,
          1.7873722182271594,
          1.7537321082101198,
          1.827859455364974,
          1.894742651255954,
          1.9234758206758447,
          2.081014750494963,
          2.044518890257369,
          2.0579161876363745,
          1.9664684855608054,
          1.9671963620453787,
          2.016286499847085,
          2.047064858470196,
          2.0192142072833343,
          2.023111579934242,
          1.974606029103737,
          1.6618011478166697,
          1.6233664742095895,
          1.5628615351140305,
          1.3947096574489308,
          1.6875232039011632,
          1.4729324811930866,
          1.3367811252222652,
          1.6469992603292438,
          1.51124117177122,
          1.5471120738640518,
          1.6338115862316225,
          1.8372942524363798,
          1.674131765878665,
          1.1567058038212175,
          1.7728951946052327,
          1.787514484414457,
          1.6002700556665557,
          1.8546938809202138,
          1.507285509976134,
          1.705295755152813,
          1.6760498202720628,
          1.5769075295858919,
          1.4045948697309851,
          1.3319091566704464,
          1.6166397982420144,
          1.7570966423947794,
          1.8845378496654042,
          2.0263829477543265,
          2.0365580428288865,
          1.9728715210246988,
          1.851477640375925,
          1.8970268726874848,
          1.9249882085347194,
          1.8942335005343096,
          1.8191140675547566,
          1.9177199832584586,
          1.9212463035299527,
          1.9345409872996642,
          1.902019907386765,
          2.039316562819668,
          1.9944389127381892,
          1.9759938644116561,
          1.8760070034573233,
          1.9454231413309897,
          1.9669783484535752,
          1.8991241720785481,
          1.8636615507300884,
          1.9768441753713746,
          2.137667996054054,
          1.5549189312883922,
          0.8325757784773316,
          1.2635129602978703,
          1.3140187648493624,
          1.471433472984762,
          0.9711404012452384,
          1.3953649808609407,
          1.1186038711030981,
          1.6861165057582894,
          1.5022611115613076,
          1.3942795151415073,
          1.0040122095787054,
          1.3682044701425728,
          1.3195041593571228,
          1.4139743401948768,
          1.5612791968889566,
          1.6076278382212337,
          1.3846235661791313,
          0.9528986396729235,
          1.780748373816911,
          1.1845139914966876,
          1.2054057894079873,
          0.976612731550432,
          1.4282292600166135,
          1.2441419252558874,
          1.1798794554466243,
          0.9896094190810847,
          1.0660090923659535,
          1.0875194527053644,
          1.0942272784094285,
          0.8939233335189839,
          1.0081528840204035,
          0.8973345277471876,
          1.0730120924340023,
          1.0409554273983863,
          0.9239125232452622,
          0.9853239032598449,
          1.0747806519818879,
          1.332638231766521,
          0.9903392777095081,
          1.0365182441770642,
          0.9774089211229623,
          0.9009923817917938,
          0.9908618771280281,
          0.9470176378835321,
          1.0394310305808123,
          1.0840898554058196,
          0.9888490534475617,
          0.9735218783801167,
          0.9498616018566963,
          0.9978735693151659,
          3.034220414318388,
          3.075106371869904,
          3.054326017434071,
          3.041309053396341,
          3.0290822593649716,
          3.052677731047449,
          3.0353958756519144,
          3.0361354293599847,
          2.99443110263036,
          3.0643280733436455,
          3.079462048349193,
          3.002266890700375,
          2.9938298350458554,
          3.0106347467226953,
          3.0131673726414983,
          3.0513930687671604,
          3.029598067699394,
          3.032677684357573,
          3.0125785388387176,
          3.026043396248427,
          3.00875165701008,
          3.035034398432743,
          2.9932906163244013,
          3.037728662172658,
          2.99661462919393,
          2.2365577710567845,
          2.4114757473749178,
          2.303647252859405,
          2.4047471523341444,
          2.3980929661397203,
          2.3502658000996623,
          2.2384010943836703,
          2.442666169621084,
          2.4148440419472927,
          2.4196605574029704,
          2.438458867666115,
          2.452988128935393,
          2.422077426172895,
          2.4158954541720483,
          2.40048834338923,
          2.4348477395227843,
          2.4114757473749178,
          2.4589562573401382,
          2.428118308702458,
          2.41605759383068,
          2.408451503602111,
          2.3684033921255474,
          2.340445269602118,
          2.034403161424718,
          2.349370636150608,
          1.8742083655751534,
          1.9065623904209807,
          1.9945416353855772,
          1.903606864741525,
          1.9355228098075052,
          1.9286826353393092,
          1.8947855932452202,
          1.886864148621776,
          2.0057500362108276,
          1.745954396527469,
          1.8893213825628934,
          1.9292151112963836,
          1.8433948741262154,
          2.000454426125277,
          1.8912266878909838,
          1.8343017487912743,
          1.8207068494242724,
          1.8089996265432746,
          1.929908046580768,
          1.896869416710124,
          1.9335094124473706,
          1.797337238042687,
          1.9076141723058844,
          2.0123493681217868,
          1.853514363766864,
          2.2382394540088124,
          2.141697944103286,
          2.1642601006243782,
          2.026930111250754,
          2.1338136778056027,
          1.951276035615918,
          2.1261404840301243,
          1.9852589046567366,
          2.114881959025663,
          2.2469143014383057,
          2.116006542495038,
          2.0893869131695837,
          2.198135917637067,
          2.282436688751376,
          2.230804613345771,
          2.066534822818645,
          2.1261404840301243,
          2.1440386921038295,
          2.0002194578049344,
          2.2002007499934804,
          2.0672960548840242,
          2.211783823926094,
          2.2505372205281686,
          2.176873711229721,
          2.0727593846973686,
          4.104530451163705,
          4.029788291921518,
          4.133745911457582,
          4.120269124366206,
          4.186868274052558,
          3.962612675104525,
          4.133557513314301,
          4.128027104403198,
          4.200000339862158,
          4.122585367877398,
          4.187142558487168,
          4.312893337940231,
          4.136093156832321,
          4.193868370514506,
          4.189410684721322,
          4.132629959666592,
          4.44641575346685,
          4.204012529146548,
          4.306888733831629,
          4.126638381479602,
          4.33671191759181,
          4.179573661452793,
          3.9538847374737895,
          4.128027104403198,
          4.129367333969286,
          3.110694758409117,
          3.3097408075585864,
          3.313074266111473,
          3.4312796784936572,
          3.4684513939946386,
          3.07525925181535,
          3.1287677116071495,
          3.413924413213862,
          3.2450009857691877,
          3.0893724543265737,
          3.3565207457504584,
          3.1848587142552303,
          3.479186592232883,
          3.3409411602135997,
          3.413167503786243,
          3.3613219568734847,
          3.4145898872004277,
          3.2279636720892,
          3.4293090792062153,
          3.215135336160618,
          3.0510918095173167,
          3.4614497020205985,
          3.1885463522476387,
          3.4859636513681345,
          3.099276965795716,
          2.492371579596262,
          2.420806369363753,
          2.44896100680038,
          2.493244272475,
          2.457202114432708,
          2.456339111846299,
          2.4400449099445383,
          2.4862304023972586,
          2.347059447748996,
          2.508708743290777,
          2.45305498207133,
          2.4646972610724367,
          2.4475802555381456,
          2.414211358162934,
          2.4520300585231927,
          2.5050017536090703,
          2.455465733679083,
          2.4445025805596363,
          2.4088564473979095,
          2.5035662123404068,
          2.437437971847523,
          2.4723180520032564,
          2.451169954328723,
          2.4372150825425996,
          2.417083163129076,
          0.4866351126534338,
          0.5430639123965965,
          0.5771256978874376,
          0.5863089694611888,
          0.3910839759536597,
          0.6112618213147456,
          0.6500567479020071,
          0.35754528734270635,
          0.5322647370957116,
          0.7678027171366181,
          0.3983812111545587,
          0.5973149790725172,
          0.5156960147458765,
          0.42500704213858403,
          0.3134555116279123,
          0.5423440503463438,
          0.3973879408314616,
          0.42815686428266386,
          0.3410111132780408,
          0.4800141796245143,
          0.49670220130437454,
          0.47278795099434007,
          0.347625368408095,
          0.28938673715459035,
          0.8063216945887707,
          2.1888274654576576,
          2.4529747571067535,
          2.1471683579184746,
          2.234517407316981,
          2.0356236146228324,
          2.2934456200584914,
          2.2168440945297605,
          2.286142326798583,
          2.2061064528418988,
          2.1677554546168034,
          2.180380149013669,
          2.06330699520211,
          2.162681024761181,
          2.3348134635660793,
          2.293389613725966,
          2.395378782652849,
          2.296652402729369,
          2.2324762252531696,
          2.3000601860136496,
          2.280224367790611,
          2.269075808973095,
          2.345368799321027,
          2.174552632642729,
          2.341618182980901,
          2.053755522725048,
          3.0330028600922123,
          2.9833062812481557,
          3.0196743571065565,
          3.023028271752753,
          3.019257329022962,
          2.848026148710033,
          2.9182664116599066,
          3.0702233030546435,
          3.0330028600922123,
          2.8389890851407955,
          3.02247170427494,
          3.0199223321545268,
          3.086058529334622,
          3.172650471663664,
          3.0088651556014314,
          2.7770084345259116,
          2.77913013292666,
          3.003969708592273,
          2.8181724785906317,
          3.132738716130918,
          3.082749437668091,
          3.0171550288632245,
          2.830630274463356,
          3.0598888737388337,
          3.066437132889066,
          2.6833494521028753,
          2.7365216967593797,
          2.534592470282984,
          2.690037235843428,
          2.7878653133708955,
          2.8028885010920273,
          2.6467058482989416,
          2.876782200985261,
          2.9076929061308827,
          2.6703142550351253,
          2.688035767491157,
          2.8236530443845926,
          2.869724003109846,
          2.908386703896665,
          2.845925101155834,
          2.5852397688473756,
          2.8241895373849393,
          2.8028751913297736,
          2.6137539587509724,
          2.634436413131706,
          2.6704283176231947,
          2.8274436644222263,
          2.6766775002512286,
          2.700576622266982,
          2.668588390387456,
          0.2526143241127137,
          1.2748177530169311,
          1.057995263409321,
          0.8894216153167691,
          0.6414204021925937,
          0.8580293498885787,
          0.9476118269759045,
          0.5119904700503349,
          0.6779410687574919,
          1.030716439950674,
          1.0906389469369,
          0.9808664396055754,
          1.1142536418818905,
          0.6873358458002786,
          0.6098059950903543,
          1.0053310029131717,
          0.9763925112157996,
          0.6181366861922226,
          0.9839082672613657,
          0.9455603180362757,
          0.7859546211440309,
          1.1015620659770473,
          0.4819767595499108,
          0.8160265282465085,
          0.7071965552849473,
          2.105027012599038,
          2.058858088288098,
          2.110934474743039,
          2.19412421295847,
          1.9683352021498486,
          1.7974642972868904,
          1.9903697868077581,
          2.1113248110864213,
          1.6803320269849205,
          1.704500927349732,
          1.7493845163293085,
          1.934612654560862,
          1.982585983418319,
          2.066881843273274,
          2.0101540977495063,
          1.7414271270152186,
          2.017181824701846,
          1.870998966927027,
          2.1180580867423595,
          2.1054013752160996,
          1.9364370163730202,
          1.8250369008895173,
          2.002252371196492,
          2.1001548397966228,
          1.8266461983313416,
          1.861735182243602,
          1.53369035974522,
          1.4339032970525587,
          1.8249704941359155,
          1.3783371508874893,
          1.233383838334281,
          1.4758657420666745,
          1.8848279948295836,
          1.2182101273286552,
          1.463928411931715,
          1.4073451141741573,
          1.8126901185020075,
          1.4892041254803816,
          1.632027648281548,
          1.3542129582992832,
          1.6127529193182502,
          1.747407903341444,
          1.6140173044234596,
          1.5703926095176424,
          1.4522226097664184,
          1.3267795121098065,
          1.7699684494502983,
          1.716457203304997,
          1.783062315875314,
          1.251091863065869,
          2.5308870005792627,
          2.687286553308293,
          2.652653323648697,
          2.817981291068992,
          2.5668714876295966,
          2.5281325444079106,
          2.6256167719934616,
          2.7784285092983083,
          3.0761246428274713,
          2.9079555502750347,
          2.888903374686419,
          2.9712658472271793,
          2.6754179240140887,
          2.875579225733077,
          2.821111085507177,
          2.648959009024057,
          2.5097407610922837,
          2.7704840755901676,
          2.5582584898257528,
          2.5243631860528963,
          2.8737534088211256,
          2.5469178670361887,
          2.9226269245938856,
          2.5762239793018766,
          2.457739727433248
         ],
         "y": [
          "worries_anxieties",
          "worries_anxieties",
          "worries_anxieties",
          "worries_anxieties",
          "worries_anxieties",
          "worries_anxieties",
          "worries_anxieties",
          "worries_anxieties",
          "worries_anxieties",
          "worries_anxieties",
          "worries_anxieties",
          "worries_anxieties",
          "worries_anxieties",
          "worries_anxieties",
          "worries_anxieties",
          "worries_anxieties",
          "worries_anxieties",
          "worries_anxieties",
          "worries_anxieties",
          "worries_anxieties",
          "worries_anxieties",
          "worries_anxieties",
          "worries_anxieties",
          "worries_anxieties",
          "worries_anxieties",
          "vocational_training",
          "vocational_training",
          "vocational_training",
          "vocational_training",
          "vocational_training",
          "vocational_training",
          "vocational_training",
          "vocational_training",
          "vocational_training",
          "vocational_training",
          "vocational_training",
          "vocational_training",
          "vocational_training",
          "vocational_training",
          "vocational_training",
          "vocational_training",
          "vocational_training",
          "vocational_training",
          "vocational_training",
          "vocational_training",
          "vocational_training",
          "vocational_training",
          "vocational_training",
          "vocational_training",
          "vocational_training",
          "vague_non_specific",
          "vague_non_specific",
          "vague_non_specific",
          "vague_non_specific",
          "vague_non_specific",
          "vague_non_specific",
          "vague_non_specific",
          "vague_non_specific",
          "vague_non_specific",
          "vague_non_specific",
          "vague_non_specific",
          "vague_non_specific",
          "vague_non_specific",
          "vague_non_specific",
          "vague_non_specific",
          "vague_non_specific",
          "vague_non_specific",
          "vague_non_specific",
          "vague_non_specific",
          "vague_non_specific",
          "vague_non_specific",
          "vague_non_specific",
          "vague_non_specific",
          "vague_non_specific",
          "vague_non_specific",
          "vague_job",
          "vague_job",
          "vague_job",
          "vague_job",
          "vague_job",
          "vague_job",
          "vague_job",
          "vague_job",
          "vague_job",
          "vague_job",
          "vague_job",
          "vague_job",
          "vague_job",
          "vague_job",
          "vague_job",
          "vague_job",
          "vague_job",
          "vague_job",
          "vague_job",
          "vague_job",
          "vague_job",
          "vague_job",
          "vague_job",
          "vague_job",
          "vague_job",
          "secular",
          "secular",
          "secular",
          "secular",
          "secular",
          "secular",
          "secular",
          "secular",
          "secular",
          "secular",
          "secular",
          "secular",
          "secular",
          "secular",
          "secular",
          "secular",
          "secular",
          "secular",
          "secular",
          "secular",
          "secular",
          "secular",
          "secular",
          "secular",
          "secular",
          "religious",
          "religious",
          "religious",
          "religious",
          "religious",
          "religious",
          "religious",
          "religious",
          "religious",
          "religious",
          "religious",
          "religious",
          "religious",
          "religious",
          "religious",
          "religious",
          "religious",
          "religious",
          "religious",
          "religious",
          "religious",
          "religious",
          "religious",
          "religious",
          "religious",
          "reliance_on_god",
          "reliance_on_god",
          "reliance_on_god",
          "reliance_on_god",
          "reliance_on_god",
          "reliance_on_god",
          "reliance_on_god",
          "reliance_on_god",
          "reliance_on_god",
          "reliance_on_god",
          "reliance_on_god",
          "reliance_on_god",
          "reliance_on_god",
          "reliance_on_god",
          "reliance_on_god",
          "reliance_on_god",
          "reliance_on_god",
          "reliance_on_god",
          "reliance_on_god",
          "reliance_on_god",
          "reliance_on_god",
          "reliance_on_god",
          "reliance_on_god",
          "reliance_on_god",
          "reliance_on_god",
          "public_assistance",
          "public_assistance",
          "public_assistance",
          "public_assistance",
          "public_assistance",
          "public_assistance",
          "public_assistance",
          "public_assistance",
          "public_assistance",
          "public_assistance",
          "public_assistance",
          "public_assistance",
          "public_assistance",
          "public_assistance",
          "public_assistance",
          "public_assistance",
          "public_assistance",
          "public_assistance",
          "public_assistance",
          "public_assistance",
          "public_assistance",
          "public_assistance",
          "public_assistance",
          "public_assistance",
          "public_assistance",
          "no_ambition",
          "no_ambition",
          "no_ambition",
          "no_ambition",
          "no_ambition",
          "no_ambition",
          "no_ambition",
          "no_ambition",
          "no_ambition",
          "no_ambition",
          "no_ambition",
          "no_ambition",
          "no_ambition",
          "no_ambition",
          "no_ambition",
          "no_ambition",
          "no_ambition",
          "no_ambition",
          "no_ambition",
          "no_ambition",
          "no_ambition",
          "no_ambition",
          "no_ambition",
          "no_ambition",
          "no_ambition",
          "migration",
          "migration",
          "migration",
          "migration",
          "migration",
          "migration",
          "migration",
          "migration",
          "migration",
          "migration",
          "migration",
          "migration",
          "migration",
          "migration",
          "migration",
          "migration",
          "migration",
          "migration",
          "migration",
          "migration",
          "migration",
          "migration",
          "migration",
          "migration",
          "migration",
          "marriage",
          "marriage",
          "marriage",
          "marriage",
          "marriage",
          "marriage",
          "marriage",
          "marriage",
          "marriage",
          "marriage",
          "marriage",
          "marriage",
          "marriage",
          "marriage",
          "marriage",
          "marriage",
          "marriage",
          "marriage",
          "marriage",
          "marriage",
          "marriage",
          "marriage",
          "marriage",
          "marriage",
          "marriage",
          "job_secular",
          "job_secular",
          "job_secular",
          "job_secular",
          "job_secular",
          "job_secular",
          "job_secular",
          "job_secular",
          "job_secular",
          "job_secular",
          "job_secular",
          "job_secular",
          "job_secular",
          "job_secular",
          "job_secular",
          "job_secular",
          "job_secular",
          "job_secular",
          "job_secular",
          "job_secular",
          "job_secular",
          "job_secular",
          "job_secular",
          "job_secular",
          "job_secular",
          "entrepreneur",
          "entrepreneur",
          "entrepreneur",
          "entrepreneur",
          "entrepreneur",
          "entrepreneur",
          "entrepreneur",
          "entrepreneur",
          "entrepreneur",
          "entrepreneur",
          "entrepreneur",
          "entrepreneur",
          "entrepreneur",
          "entrepreneur",
          "entrepreneur",
          "entrepreneur",
          "entrepreneur",
          "entrepreneur",
          "entrepreneur",
          "entrepreneur",
          "entrepreneur",
          "entrepreneur",
          "entrepreneur",
          "entrepreneur",
          "entrepreneur",
          "education_religious",
          "education_religious",
          "education_religious",
          "education_religious",
          "education_religious",
          "education_religious",
          "education_religious",
          "education_religious",
          "education_religious",
          "education_religious",
          "education_religious",
          "education_religious",
          "education_religious",
          "education_religious",
          "education_religious",
          "education_religious",
          "education_religious",
          "education_religious",
          "education_religious",
          "education_religious",
          "education_religious",
          "education_religious",
          "education_religious",
          "education_religious",
          "education_religious",
          "education_neutral",
          "education_neutral",
          "education_neutral",
          "education_neutral",
          "education_neutral",
          "education_neutral",
          "education_neutral",
          "education_neutral",
          "education_neutral",
          "education_neutral",
          "education_neutral",
          "education_neutral",
          "education_neutral",
          "education_neutral",
          "education_neutral",
          "education_neutral",
          "education_neutral",
          "education_neutral",
          "education_neutral",
          "education_neutral",
          "education_neutral",
          "education_neutral",
          "education_neutral",
          "education_neutral",
          "education_neutral",
          "education_low",
          "education_low",
          "education_low",
          "education_low",
          "education_low",
          "education_low",
          "education_low",
          "education_low",
          "education_low",
          "education_low",
          "education_low",
          "education_low",
          "education_low",
          "education_low",
          "education_low",
          "education_low",
          "education_low",
          "education_low",
          "education_low",
          "education_low",
          "education_low",
          "education_low",
          "education_low",
          "education_low",
          "education_low",
          "education_high",
          "education_high",
          "education_high",
          "education_high",
          "education_high",
          "education_high",
          "education_high",
          "education_high",
          "education_high",
          "education_high",
          "education_high",
          "education_high",
          "education_high",
          "education_high",
          "education_high",
          "education_high",
          "education_high",
          "education_high",
          "education_high",
          "education_high",
          "education_high",
          "education_high",
          "education_high",
          "education_high",
          "education_high",
          "covid_impacts",
          "covid_impacts",
          "covid_impacts",
          "covid_impacts",
          "covid_impacts",
          "covid_impacts",
          "covid_impacts",
          "covid_impacts",
          "covid_impacts",
          "covid_impacts",
          "covid_impacts",
          "covid_impacts",
          "covid_impacts",
          "covid_impacts",
          "covid_impacts",
          "covid_impacts",
          "covid_impacts",
          "covid_impacts",
          "covid_impacts",
          "covid_impacts",
          "covid_impacts",
          "covid_impacts",
          "covid_impacts",
          "covid_impacts",
          "covid_impacts",
          "camp_regulations",
          "camp_regulations",
          "camp_regulations",
          "camp_regulations",
          "camp_regulations",
          "camp_regulations",
          "camp_regulations",
          "camp_regulations",
          "camp_regulations",
          "camp_regulations",
          "camp_regulations",
          "camp_regulations",
          "camp_regulations",
          "camp_regulations",
          "camp_regulations",
          "camp_regulations",
          "camp_regulations",
          "camp_regulations",
          "camp_regulations",
          "camp_regulations",
          "camp_regulations",
          "camp_regulations",
          "camp_regulations",
          "camp_regulations",
          "camp_regulations",
          "budget_low",
          "budget_low",
          "budget_low",
          "budget_low",
          "budget_low",
          "budget_low",
          "budget_low",
          "budget_low",
          "budget_low",
          "budget_low",
          "budget_low",
          "budget_low",
          "budget_low",
          "budget_low",
          "budget_low",
          "budget_low",
          "budget_low",
          "budget_low",
          "budget_low",
          "budget_low",
          "budget_low",
          "budget_low",
          "budget_low",
          "budget_low",
          "budget_low",
          "budget_high",
          "budget_high",
          "budget_high",
          "budget_high",
          "budget_high",
          "budget_high",
          "budget_high",
          "budget_high",
          "budget_high",
          "budget_high",
          "budget_high",
          "budget_high",
          "budget_high",
          "budget_high",
          "budget_high",
          "budget_high",
          "budget_high",
          "budget_high",
          "budget_high",
          "budget_high",
          "budget_high",
          "budget_high",
          "budget_high",
          "budget_high",
          "budget_high",
          "awareness_information_low",
          "awareness_information_low",
          "awareness_information_low",
          "awareness_information_low",
          "awareness_information_low",
          "awareness_information_low",
          "awareness_information_low",
          "awareness_information_low",
          "awareness_information_low",
          "awareness_information_low",
          "awareness_information_low",
          "awareness_information_low",
          "awareness_information_low",
          "awareness_information_low",
          "awareness_information_low",
          "awareness_information_low",
          "awareness_information_low",
          "awareness_information_low",
          "awareness_information_low",
          "awareness_information_low",
          "awareness_information_low",
          "awareness_information_low",
          "awareness_information_low",
          "awareness_information_low",
          "awareness_information_low",
          "awareness_information_high",
          "awareness_information_high",
          "awareness_information_high",
          "awareness_information_high",
          "awareness_information_high",
          "awareness_information_high",
          "awareness_information_high",
          "awareness_information_high",
          "awareness_information_high",
          "awareness_information_high",
          "awareness_information_high",
          "awareness_information_high",
          "awareness_information_high",
          "awareness_information_high",
          "awareness_information_high",
          "awareness_information_high",
          "awareness_information_high",
          "awareness_information_high",
          "awareness_information_high",
          "awareness_information_high",
          "awareness_information_high",
          "awareness_information_high",
          "awareness_information_high",
          "awareness_information_high",
          "awareness_information_high",
          "ability_low",
          "ability_low",
          "ability_low",
          "ability_low",
          "ability_low",
          "ability_low",
          "ability_low",
          "ability_low",
          "ability_low",
          "ability_low",
          "ability_low",
          "ability_low",
          "ability_low",
          "ability_low",
          "ability_low",
          "ability_low",
          "ability_low",
          "ability_low",
          "ability_low",
          "ability_low",
          "ability_low",
          "ability_low",
          "ability_low",
          "ability_low",
          "ability_low",
          "ability_high",
          "ability_high",
          "ability_high",
          "ability_high",
          "ability_high",
          "ability_high",
          "ability_high",
          "ability_high",
          "ability_high",
          "ability_high",
          "ability_high",
          "ability_high",
          "ability_high",
          "ability_high",
          "ability_high",
          "ability_high",
          "ability_high",
          "ability_high",
          "ability_high",
          "ability_high",
          "ability_high",
          "ability_high",
          "ability_high",
          "ability_high",
          "ability_high"
         ]
        }
       ],
       "layout": {
        "height": 800,
        "legend": {
         "orientation": "v",
         "title": {
          "font": {
           "family": "Arial"
          },
          "text": "Sample"
         }
        },
        "margin": {
         "b": 100,
         "l": 0,
         "pad": 0,
         "r": 0,
         "t": 100
        },
        "plot_bgcolor": "white",
        "template": {
         "data": {
          "bar": [
           {
            "error_x": {
             "color": "#2a3f5f"
            },
            "error_y": {
             "color": "#2a3f5f"
            },
            "marker": {
             "line": {
              "color": "#E5ECF6",
              "width": 0.5
             },
             "pattern": {
              "fillmode": "overlay",
              "size": 10,
              "solidity": 0.2
             }
            },
            "type": "bar"
           }
          ],
          "barpolar": [
           {
            "marker": {
             "line": {
              "color": "#E5ECF6",
              "width": 0.5
             },
             "pattern": {
              "fillmode": "overlay",
              "size": 10,
              "solidity": 0.2
             }
            },
            "type": "barpolar"
           }
          ],
          "carpet": [
           {
            "aaxis": {
             "endlinecolor": "#2a3f5f",
             "gridcolor": "white",
             "linecolor": "white",
             "minorgridcolor": "white",
             "startlinecolor": "#2a3f5f"
            },
            "baxis": {
             "endlinecolor": "#2a3f5f",
             "gridcolor": "white",
             "linecolor": "white",
             "minorgridcolor": "white",
             "startlinecolor": "#2a3f5f"
            },
            "type": "carpet"
           }
          ],
          "choropleth": [
           {
            "colorbar": {
             "outlinewidth": 0,
             "ticks": ""
            },
            "type": "choropleth"
           }
          ],
          "contour": [
           {
            "colorbar": {
             "outlinewidth": 0,
             "ticks": ""
            },
            "colorscale": [
             [
              0,
              "#0d0887"
             ],
             [
              0.1111111111111111,
              "#46039f"
             ],
             [
              0.2222222222222222,
              "#7201a8"
             ],
             [
              0.3333333333333333,
              "#9c179e"
             ],
             [
              0.4444444444444444,
              "#bd3786"
             ],
             [
              0.5555555555555556,
              "#d8576b"
             ],
             [
              0.6666666666666666,
              "#ed7953"
             ],
             [
              0.7777777777777778,
              "#fb9f3a"
             ],
             [
              0.8888888888888888,
              "#fdca26"
             ],
             [
              1,
              "#f0f921"
             ]
            ],
            "type": "contour"
           }
          ],
          "contourcarpet": [
           {
            "colorbar": {
             "outlinewidth": 0,
             "ticks": ""
            },
            "type": "contourcarpet"
           }
          ],
          "heatmap": [
           {
            "colorbar": {
             "outlinewidth": 0,
             "ticks": ""
            },
            "colorscale": [
             [
              0,
              "#0d0887"
             ],
             [
              0.1111111111111111,
              "#46039f"
             ],
             [
              0.2222222222222222,
              "#7201a8"
             ],
             [
              0.3333333333333333,
              "#9c179e"
             ],
             [
              0.4444444444444444,
              "#bd3786"
             ],
             [
              0.5555555555555556,
              "#d8576b"
             ],
             [
              0.6666666666666666,
              "#ed7953"
             ],
             [
              0.7777777777777778,
              "#fb9f3a"
             ],
             [
              0.8888888888888888,
              "#fdca26"
             ],
             [
              1,
              "#f0f921"
             ]
            ],
            "type": "heatmap"
           }
          ],
          "heatmapgl": [
           {
            "colorbar": {
             "outlinewidth": 0,
             "ticks": ""
            },
            "colorscale": [
             [
              0,
              "#0d0887"
             ],
             [
              0.1111111111111111,
              "#46039f"
             ],
             [
              0.2222222222222222,
              "#7201a8"
             ],
             [
              0.3333333333333333,
              "#9c179e"
             ],
             [
              0.4444444444444444,
              "#bd3786"
             ],
             [
              0.5555555555555556,
              "#d8576b"
             ],
             [
              0.6666666666666666,
              "#ed7953"
             ],
             [
              0.7777777777777778,
              "#fb9f3a"
             ],
             [
              0.8888888888888888,
              "#fdca26"
             ],
             [
              1,
              "#f0f921"
             ]
            ],
            "type": "heatmapgl"
           }
          ],
          "histogram": [
           {
            "marker": {
             "pattern": {
              "fillmode": "overlay",
              "size": 10,
              "solidity": 0.2
             }
            },
            "type": "histogram"
           }
          ],
          "histogram2d": [
           {
            "colorbar": {
             "outlinewidth": 0,
             "ticks": ""
            },
            "colorscale": [
             [
              0,
              "#0d0887"
             ],
             [
              0.1111111111111111,
              "#46039f"
             ],
             [
              0.2222222222222222,
              "#7201a8"
             ],
             [
              0.3333333333333333,
              "#9c179e"
             ],
             [
              0.4444444444444444,
              "#bd3786"
             ],
             [
              0.5555555555555556,
              "#d8576b"
             ],
             [
              0.6666666666666666,
              "#ed7953"
             ],
             [
              0.7777777777777778,
              "#fb9f3a"
             ],
             [
              0.8888888888888888,
              "#fdca26"
             ],
             [
              1,
              "#f0f921"
             ]
            ],
            "type": "histogram2d"
           }
          ],
          "histogram2dcontour": [
           {
            "colorbar": {
             "outlinewidth": 0,
             "ticks": ""
            },
            "colorscale": [
             [
              0,
              "#0d0887"
             ],
             [
              0.1111111111111111,
              "#46039f"
             ],
             [
              0.2222222222222222,
              "#7201a8"
             ],
             [
              0.3333333333333333,
              "#9c179e"
             ],
             [
              0.4444444444444444,
              "#bd3786"
             ],
             [
              0.5555555555555556,
              "#d8576b"
             ],
             [
              0.6666666666666666,
              "#ed7953"
             ],
             [
              0.7777777777777778,
              "#fb9f3a"
             ],
             [
              0.8888888888888888,
              "#fdca26"
             ],
             [
              1,
              "#f0f921"
             ]
            ],
            "type": "histogram2dcontour"
           }
          ],
          "mesh3d": [
           {
            "colorbar": {
             "outlinewidth": 0,
             "ticks": ""
            },
            "type": "mesh3d"
           }
          ],
          "parcoords": [
           {
            "line": {
             "colorbar": {
              "outlinewidth": 0,
              "ticks": ""
             }
            },
            "type": "parcoords"
           }
          ],
          "pie": [
           {
            "automargin": true,
            "type": "pie"
           }
          ],
          "scatter": [
           {
            "fillpattern": {
             "fillmode": "overlay",
             "size": 10,
             "solidity": 0.2
            },
            "type": "scatter"
           }
          ],
          "scatter3d": [
           {
            "line": {
             "colorbar": {
              "outlinewidth": 0,
              "ticks": ""
             }
            },
            "marker": {
             "colorbar": {
              "outlinewidth": 0,
              "ticks": ""
             }
            },
            "type": "scatter3d"
           }
          ],
          "scattercarpet": [
           {
            "marker": {
             "colorbar": {
              "outlinewidth": 0,
              "ticks": ""
             }
            },
            "type": "scattercarpet"
           }
          ],
          "scattergeo": [
           {
            "marker": {
             "colorbar": {
              "outlinewidth": 0,
              "ticks": ""
             }
            },
            "type": "scattergeo"
           }
          ],
          "scattergl": [
           {
            "marker": {
             "colorbar": {
              "outlinewidth": 0,
              "ticks": ""
             }
            },
            "type": "scattergl"
           }
          ],
          "scattermapbox": [
           {
            "marker": {
             "colorbar": {
              "outlinewidth": 0,
              "ticks": ""
             }
            },
            "type": "scattermapbox"
           }
          ],
          "scatterpolar": [
           {
            "marker": {
             "colorbar": {
              "outlinewidth": 0,
              "ticks": ""
             }
            },
            "type": "scatterpolar"
           }
          ],
          "scatterpolargl": [
           {
            "marker": {
             "colorbar": {
              "outlinewidth": 0,
              "ticks": ""
             }
            },
            "type": "scatterpolargl"
           }
          ],
          "scatterternary": [
           {
            "marker": {
             "colorbar": {
              "outlinewidth": 0,
              "ticks": ""
             }
            },
            "type": "scatterternary"
           }
          ],
          "surface": [
           {
            "colorbar": {
             "outlinewidth": 0,
             "ticks": ""
            },
            "colorscale": [
             [
              0,
              "#0d0887"
             ],
             [
              0.1111111111111111,
              "#46039f"
             ],
             [
              0.2222222222222222,
              "#7201a8"
             ],
             [
              0.3333333333333333,
              "#9c179e"
             ],
             [
              0.4444444444444444,
              "#bd3786"
             ],
             [
              0.5555555555555556,
              "#d8576b"
             ],
             [
              0.6666666666666666,
              "#ed7953"
             ],
             [
              0.7777777777777778,
              "#fb9f3a"
             ],
             [
              0.8888888888888888,
              "#fdca26"
             ],
             [
              1,
              "#f0f921"
             ]
            ],
            "type": "surface"
           }
          ],
          "table": [
           {
            "cells": {
             "fill": {
              "color": "#EBF0F8"
             },
             "line": {
              "color": "white"
             }
            },
            "header": {
             "fill": {
              "color": "#C8D4E3"
             },
             "line": {
              "color": "white"
             }
            },
            "type": "table"
           }
          ]
         },
         "layout": {
          "annotationdefaults": {
           "arrowcolor": "#2a3f5f",
           "arrowhead": 0,
           "arrowwidth": 1
          },
          "autotypenumbers": "strict",
          "coloraxis": {
           "colorbar": {
            "outlinewidth": 0,
            "ticks": ""
           }
          },
          "colorscale": {
           "diverging": [
            [
             0,
             "#8e0152"
            ],
            [
             0.1,
             "#c51b7d"
            ],
            [
             0.2,
             "#de77ae"
            ],
            [
             0.3,
             "#f1b6da"
            ],
            [
             0.4,
             "#fde0ef"
            ],
            [
             0.5,
             "#f7f7f7"
            ],
            [
             0.6,
             "#e6f5d0"
            ],
            [
             0.7,
             "#b8e186"
            ],
            [
             0.8,
             "#7fbc41"
            ],
            [
             0.9,
             "#4d9221"
            ],
            [
             1,
             "#276419"
            ]
           ],
           "sequential": [
            [
             0,
             "#0d0887"
            ],
            [
             0.1111111111111111,
             "#46039f"
            ],
            [
             0.2222222222222222,
             "#7201a8"
            ],
            [
             0.3333333333333333,
             "#9c179e"
            ],
            [
             0.4444444444444444,
             "#bd3786"
            ],
            [
             0.5555555555555556,
             "#d8576b"
            ],
            [
             0.6666666666666666,
             "#ed7953"
            ],
            [
             0.7777777777777778,
             "#fb9f3a"
            ],
            [
             0.8888888888888888,
             "#fdca26"
            ],
            [
             1,
             "#f0f921"
            ]
           ],
           "sequentialminus": [
            [
             0,
             "#0d0887"
            ],
            [
             0.1111111111111111,
             "#46039f"
            ],
            [
             0.2222222222222222,
             "#7201a8"
            ],
            [
             0.3333333333333333,
             "#9c179e"
            ],
            [
             0.4444444444444444,
             "#bd3786"
            ],
            [
             0.5555555555555556,
             "#d8576b"
            ],
            [
             0.6666666666666666,
             "#ed7953"
            ],
            [
             0.7777777777777778,
             "#fb9f3a"
            ],
            [
             0.8888888888888888,
             "#fdca26"
            ],
            [
             1,
             "#f0f921"
            ]
           ]
          },
          "colorway": [
           "#636efa",
           "#EF553B",
           "#00cc96",
           "#ab63fa",
           "#FFA15A",
           "#19d3f3",
           "#FF6692",
           "#B6E880",
           "#FF97FF",
           "#FECB52"
          ],
          "font": {
           "color": "#2a3f5f"
          },
          "geo": {
           "bgcolor": "white",
           "lakecolor": "white",
           "landcolor": "#E5ECF6",
           "showlakes": true,
           "showland": true,
           "subunitcolor": "white"
          },
          "hoverlabel": {
           "align": "left"
          },
          "hovermode": "closest",
          "mapbox": {
           "style": "light"
          },
          "paper_bgcolor": "white",
          "plot_bgcolor": "#E5ECF6",
          "polar": {
           "angularaxis": {
            "gridcolor": "white",
            "linecolor": "white",
            "ticks": ""
           },
           "bgcolor": "#E5ECF6",
           "radialaxis": {
            "gridcolor": "white",
            "linecolor": "white",
            "ticks": ""
           }
          },
          "scene": {
           "xaxis": {
            "backgroundcolor": "#E5ECF6",
            "gridcolor": "white",
            "gridwidth": 2,
            "linecolor": "white",
            "showbackground": true,
            "ticks": "",
            "zerolinecolor": "white"
           },
           "yaxis": {
            "backgroundcolor": "#E5ECF6",
            "gridcolor": "white",
            "gridwidth": 2,
            "linecolor": "white",
            "showbackground": true,
            "ticks": "",
            "zerolinecolor": "white"
           },
           "zaxis": {
            "backgroundcolor": "#E5ECF6",
            "gridcolor": "white",
            "gridwidth": 2,
            "linecolor": "white",
            "showbackground": true,
            "ticks": "",
            "zerolinecolor": "white"
           }
          },
          "shapedefaults": {
           "line": {
            "color": "#2a3f5f"
           }
          },
          "ternary": {
           "aaxis": {
            "gridcolor": "white",
            "linecolor": "white",
            "ticks": ""
           },
           "baxis": {
            "gridcolor": "white",
            "linecolor": "white",
            "ticks": ""
           },
           "bgcolor": "#E5ECF6",
           "caxis": {
            "gridcolor": "white",
            "linecolor": "white",
            "ticks": ""
           }
          },
          "title": {
           "x": 0.05
          },
          "xaxis": {
           "automargin": true,
           "gridcolor": "white",
           "linecolor": "white",
           "ticks": "",
           "title": {
            "standoff": 15
           },
           "zerolinecolor": "white",
           "zerolinewidth": 2
          },
          "yaxis": {
           "automargin": true,
           "gridcolor": "white",
           "linecolor": "white",
           "ticks": "",
           "title": {
            "standoff": 15
           },
           "zerolinecolor": "white",
           "zerolinewidth": 2
          }
         }
        },
        "title": {
         "font": {
          "family": "Arial",
          "size": 18
         },
         "text": "Figure 9: Interpretability test",
         "x": 0.5
        },
        "width": 800,
        "xaxis": {
         "dtick": 1,
         "gridcolor": "lightgray",
         "gridwidth": 0.75,
         "linecolor": "black",
         "mirror": true,
         "showline": true,
         "ticklen": 5,
         "ticks": "outside",
         "title": {
          "standoff": 10,
          "text": "log F statistic"
         },
         "zeroline": true,
         "zerolinecolor": "lightgray"
        },
        "yaxis": {
         "dtick": 1,
         "gridcolor": "lightgray",
         "gridwidth": 0.75,
         "linecolor": "black",
         "mirror": true,
         "showline": true,
         "ticklen": 5,
         "ticks": "outside",
         "title": {
          "standoff": 10,
          "text": "Annotation"
         },
         "zeroline": true,
         "zerolinecolor": "lightgray"
        }
       }
      },
      "text/html": [
       "<div>                            <div id=\"58541ff3-c2ff-4af0-b239-7e9c7c8cbfbb\" class=\"plotly-graph-div\" style=\"height:800px; width:800px;\"></div>            <script type=\"text/javascript\">                require([\"plotly\"], function(Plotly) {                    window.PLOTLYENV=window.PLOTLYENV || {};                                    if (document.getElementById(\"58541ff3-c2ff-4af0-b239-7e9c7c8cbfbb\")) {                    Plotly.newPlot(                        \"58541ff3-c2ff-4af0-b239-7e9c7c8cbfbb\",                        [{\"line\":{\"color\":\"lightgreen\"},\"mode\":\"lines\",\"name\":\"Difference\",\"showlegend\":false,\"x\":[2.4099384751342106,1.6144165963588077],\"y\":[\"worries_anxieties\",\"worries_anxieties\"],\"type\":\"scatter\"},{\"line\":{\"color\":\"lightgreen\"},\"mode\":\"lines\",\"name\":\"Difference\",\"showlegend\":false,\"x\":[0.5627851068972697,-0.13491680999464079],\"y\":[\"vocational_training\",\"vocational_training\"],\"type\":\"scatter\"},{\"line\":{\"color\":\"lightgreen\"},\"mode\":\"lines\",\"name\":\"Difference\",\"showlegend\":false,\"x\":[3.222740368750383,2.4274440285149477],\"y\":[\"vague_non_specific\",\"vague_non_specific\"],\"type\":\"scatter\"},{\"line\":{\"color\":\"lightgreen\"},\"mode\":\"lines\",\"name\":\"Difference\",\"showlegend\":false,\"x\":[2.408482206043707,1.7020650603821303],\"y\":[\"vague_job\",\"vague_job\"],\"type\":\"scatter\"},{\"line\":{\"color\":\"lightgreen\"},\"mode\":\"lines\",\"name\":\"Difference\",\"showlegend\":false,\"x\":[2.239262789461799,0.956258849222682],\"y\":[\"secular\",\"secular\"],\"type\":\"scatter\"},{\"line\":{\"color\":\"lightgreen\"},\"mode\":\"lines\",\"name\":\"Difference\",\"showlegend\":false,\"x\":[1.9569557523939833,1.1134174323119375],\"y\":[\"religious\",\"religious\"],\"type\":\"scatter\"},{\"line\":{\"color\":\"lightgreen\"},\"mode\":\"lines\",\"name\":\"Difference\",\"showlegend\":false,\"x\":[1.5832531037789976,1.437454111543578],\"y\":[\"reliance_on_god\",\"reliance_on_god\"],\"type\":\"scatter\"},{\"line\":{\"color\":\"lightgreen\"},\"mode\":\"lines\",\"name\":\"Difference\",\"showlegend\":false,\"x\":[1.9188075653425596,1.3761223855393043],\"y\":[\"public_assistance\",\"public_assistance\"],\"type\":\"scatter\"},{\"line\":{\"color\":\"red\"},\"mode\":\"lines\",\"name\":\"Difference\",\"showlegend\":false,\"x\":[1.302438532380255,1.358609368883312],\"y\":[\"no_ambition\",\"no_ambition\"],\"type\":\"scatter\"},{\"line\":{\"color\":\"lightgreen\"},\"mode\":\"lines\",\"name\":\"Difference\",\"showlegend\":false,\"x\":[1.013766565869335,0.7056840929202763],\"y\":[\"migration\",\"migration\"],\"type\":\"scatter\"},{\"line\":{\"color\":\"lightgreen\"},\"mode\":\"lines\",\"name\":\"Difference\",\"showlegend\":false,\"x\":[3.0296033576368693,1.8243860535237932],\"y\":[\"marriage\",\"marriage\"],\"type\":\"scatter\"},{\"line\":{\"color\":\"lightgreen\"},\"mode\":\"lines\",\"name\":\"Difference\",\"showlegend\":false,\"x\":[2.3760318553292565,1.772134398803305],\"y\":[\"job_secular\",\"job_secular\"],\"type\":\"scatter\"},{\"line\":{\"color\":\"lightgreen\"},\"mode\":\"lines\",\"name\":\"Difference\",\"showlegend\":false,\"x\":[1.897008064024456,0.9030694802712453],\"y\":[\"entrepreneur\",\"entrepreneur\"],\"type\":\"scatter\"},{\"line\":{\"color\":\"lightgreen\"},\"mode\":\"lines\",\"name\":\"Difference\",\"showlegend\":false,\"x\":[2.134502721998992,1.2975518704294084],\"y\":[\"education_religious\",\"education_religious\"],\"type\":\"scatter\"},{\"line\":{\"color\":\"lightgreen\"},\"mode\":\"lines\",\"name\":\"Difference\",\"showlegend\":false,\"x\":[4.163421730980032,2.9527507869754532],\"y\":[\"education_neutral\",\"education_neutral\"],\"type\":\"scatter\"},{\"line\":{\"color\":\"lightgreen\"},\"mode\":\"lines\",\"name\":\"Difference\",\"showlegend\":false,\"x\":[3.2917955540006942,1.8857121793958227],\"y\":[\"education_low\",\"education_low\"],\"type\":\"scatter\"},{\"line\":{\"color\":\"lightgreen\"},\"mode\":\"lines\",\"name\":\"Difference\",\"showlegend\":false,\"x\":[2.4526063529880515,1.6758360713841653],\"y\":[\"education_high\",\"education_high\"],\"type\":\"scatter\"},{\"line\":{\"color\":\"lightgreen\"},\"mode\":\"lines\",\"name\":\"Difference\",\"showlegend\":false,\"x\":[0.4941896735478699,-0.40320995230331125],\"y\":[\"covid_impacts\",\"covid_impacts\"],\"type\":\"scatter\"},{\"line\":{\"color\":\"lightgreen\"},\"mode\":\"lines\",\"name\":\"Difference\",\"showlegend\":false,\"x\":[2.2381255883447877,1.6609553918254576],\"y\":[\"camp_regulations\",\"camp_regulations\"],\"type\":\"scatter\"},{\"line\":{\"color\":\"lightgreen\"},\"mode\":\"lines\",\"name\":\"Difference\",\"showlegend\":false,\"x\":[2.9865850127719353,2.0944572986201417],\"y\":[\"budget_low\",\"budget_low\"],\"type\":\"scatter\"},{\"line\":{\"color\":\"lightgreen\"},\"mode\":\"lines\",\"name\":\"Difference\",\"showlegend\":false,\"x\":[2.73906735457343,1.6082212727977923],\"y\":[\"budget_high\",\"budget_high\"],\"type\":\"scatter\"},{\"line\":{\"color\":\"lightgreen\"},\"mode\":\"lines\",\"name\":\"Difference\",\"showlegend\":false,\"x\":[0.8419001879523037,0.3007431798189424],\"y\":[\"awareness_information_low\",\"awareness_information_low\"],\"type\":\"scatter\"},{\"line\":{\"color\":\"lightgreen\"},\"mode\":\"lines\",\"name\":\"Difference\",\"showlegend\":false,\"x\":[1.9603393857110012,1.4396640401325242],\"y\":[\"awareness_information_high\",\"awareness_information_high\"],\"type\":\"scatter\"},{\"line\":{\"color\":\"lightgreen\"},\"mode\":\"lines\",\"name\":\"Difference\",\"showlegend\":false,\"x\":[1.5539394101386628,0.7549206298114058],\"y\":[\"ability_low\",\"ability_low\"],\"type\":\"scatter\"},{\"line\":{\"color\":\"lightgreen\"},\"mode\":\"lines\",\"name\":\"Difference\",\"showlegend\":false,\"x\":[2.711731302439058,1.2778170634478774],\"y\":[\"ability_high\",\"ability_high\"],\"type\":\"scatter\"},{\"marker\":{\"color\":\"black\",\"line\":{\"width\":1},\"size\":10,\"symbol\":\"cross-thin\"},\"mode\":\"markers\",\"name\":\"Human\",\"x\":[1.6144165963588077,-0.13491680999464079,2.4274440285149477,1.7020650603821303,0.956258849222682,1.1134174323119375,1.437454111543578,1.3761223855393043,1.358609368883312,0.7056840929202763,1.8243860535237932,1.772134398803305,0.9030694802712453,1.2975518704294084,2.9527507869754532,1.8857121793958227,1.6758360713841653,-0.40320995230331125,1.6609553918254576,2.0944572986201417,1.6082212727977923,0.3007431798189424,1.4396640401325242,0.7549206298114058,1.2778170634478774],\"y\":[\"worries_anxieties\",\"vocational_training\",\"vague_non_specific\",\"vague_job\",\"secular\",\"religious\",\"reliance_on_god\",\"public_assistance\",\"no_ambition\",\"migration\",\"marriage\",\"job_secular\",\"entrepreneur\",\"education_religious\",\"education_neutral\",\"education_low\",\"education_high\",\"covid_impacts\",\"camp_regulations\",\"budget_low\",\"budget_high\",\"awareness_information_low\",\"awareness_information_high\",\"ability_low\",\"ability_high\"],\"type\":\"scatter\"},{\"marker\":{\"color\":\"black\",\"line\":{\"width\":1},\"opacity\":0.5,\"size\":5,\"symbol\":\"circle-open\"},\"mode\":\"markers\",\"name\":\"Enhanced\",\"x\":[2.338281872968259,2.3803450240227004,2.5065824848552283,1.9419247349617375,2.535436618941858,2.5035229246135624,2.5046413700457624,2.775323588709688,2.542743610309025,1.9797555254048071,2.404557779629842,2.4745175561976005,2.2639884447361736,2.5575128175287323,2.552371886455798,2.304468840876669,2.459437491975366,2.3602212763266777,2.5630128281264724,2.356045828548438,2.461867135813214,2.4710585062712247,2.069374461891848,2.3980442590803195,2.54342501006426,0.7354894463333214,0.7021418042250752,0.17878433445093808,0.7028196570195896,0.6400481791196968,0.7393408505775689,0.24750500309769655,0.7039143406049115,0.6883743381040213,0.7224655814745626,0.480658917318706,0.162731354511703,0.4519444489921447,0.5306901599459511,0.4728229016219591,0.4588286597855765,0.7088621072049927,0.585082110874256,0.6858325515188028,0.4661520935727847,0.6843978606840031,0.5707250685017515,0.49598994188146667,0.5467432407319994,0.7072827202782638,3.416181625305768,3.2956109876518838,3.173624992860571,3.3330971910899363,3.199822675672101,3.257576006893354,3.2426744944553527,3.1716182663128114,3.1675844341643566,2.8000021879640045,3.2326357394425065,3.304954912331299,3.2623728483698415,2.8243990086634656,3.2771944629408654,3.1207622400593156,3.0832075410239126,3.1505123772158377,3.456076124791263,3.1764841595062285,3.480037798366398,3.325829537377148,3.492323868116918,3.169442709479421,3.154483028705012,2.3858093401407325,2.3678180466070025,2.424585543199349,2.2472379396346,2.3064812243290476,2.4257549417565696,2.433469497332023,2.369819919600687,2.3803930212965865,2.405352684826808,2.6324070539219946,2.4179758748383016,2.39845673573506,2.6819521953966983,2.6706725835988254,2.413326210254146,2.3784738397318237,2.4184694347252145,2.3518273963612737,2.424053626366181,2.2533728801720496,2.2302314818194895,2.540650408366848,2.410284423088189,2.243178847993183,2.3402366357037527,2.143299376202044,2.2260396984349473,2.2104834607169823,2.223841586967904,2.1625568255343537,2.143623554974072,2.2092926764931082,2.202846212938504,2.2436325482911466,2.242956179922561,2.335395262784221,1.8353941843024488,2.3416224775069994,2.29250486145456,2.237196037884629,2.184601786332375,2.3385227331213594,2.2211697765017777,2.2219649377234414,2.3299339725608146,2.519435209556684,2.3840335242293347,2.0687696959648187,2.3222165204421352,2.0259378451755854,1.8026892826073704,1.9880068860558522,1.9940942439129843,1.9295965478712491,1.9294411539731218,2.0579332256281595,1.890747082794738,2.025521269343829,1.8953461681191561,1.7873722182271594,1.7537321082101198,1.827859455364974,1.894742651255954,1.9234758206758447,2.081014750494963,2.044518890257369,2.0579161876363745,1.9664684855608054,1.9671963620453787,2.016286499847085,2.047064858470196,2.0192142072833343,2.023111579934242,1.974606029103737,1.6618011478166697,1.6233664742095895,1.5628615351140305,1.3947096574489308,1.6875232039011632,1.4729324811930866,1.3367811252222652,1.6469992603292438,1.51124117177122,1.5471120738640518,1.6338115862316225,1.8372942524363798,1.674131765878665,1.1567058038212175,1.7728951946052327,1.787514484414457,1.6002700556665557,1.8546938809202138,1.507285509976134,1.705295755152813,1.6760498202720628,1.5769075295858919,1.4045948697309851,1.3319091566704464,1.6166397982420144,1.7570966423947794,1.8845378496654042,2.0263829477543265,2.0365580428288865,1.9728715210246988,1.851477640375925,1.8970268726874848,1.9249882085347194,1.8942335005343096,1.8191140675547566,1.9177199832584586,1.9212463035299527,1.9345409872996642,1.902019907386765,2.039316562819668,1.9944389127381892,1.9759938644116561,1.8760070034573233,1.9454231413309897,1.9669783484535752,1.8991241720785481,1.8636615507300884,1.9768441753713746,2.137667996054054,1.5549189312883922,0.8325757784773316,1.2635129602978703,1.3140187648493624,1.471433472984762,0.9711404012452384,1.3953649808609407,1.1186038711030981,1.6861165057582894,1.5022611115613076,1.3942795151415073,1.0040122095787054,1.3682044701425728,1.3195041593571228,1.4139743401948768,1.5612791968889566,1.6076278382212337,1.3846235661791313,0.9528986396729235,1.780748373816911,1.1845139914966876,1.2054057894079873,0.976612731550432,1.4282292600166135,1.2441419252558874,1.1798794554466243,0.9896094190810847,1.0660090923659535,1.0875194527053644,1.0942272784094285,0.8939233335189839,1.0081528840204035,0.8973345277471876,1.0730120924340023,1.0409554273983863,0.9239125232452622,0.9853239032598449,1.0747806519818879,1.332638231766521,0.9903392777095081,1.0365182441770642,0.9774089211229623,0.9009923817917938,0.9908618771280281,0.9470176378835321,1.0394310305808123,1.0840898554058196,0.9888490534475617,0.9735218783801167,0.9498616018566963,0.9978735693151659,3.034220414318388,3.075106371869904,3.054326017434071,3.041309053396341,3.0290822593649716,3.052677731047449,3.0353958756519144,3.0361354293599847,2.99443110263036,3.0643280733436455,3.079462048349193,3.002266890700375,2.9938298350458554,3.0106347467226953,3.0131673726414983,3.0513930687671604,3.029598067699394,3.032677684357573,3.0125785388387176,3.026043396248427,3.00875165701008,3.035034398432743,2.9932906163244013,3.037728662172658,2.99661462919393,2.2365577710567845,2.4114757473749178,2.303647252859405,2.4047471523341444,2.3980929661397203,2.3502658000996623,2.2384010943836703,2.442666169621084,2.4148440419472927,2.4196605574029704,2.438458867666115,2.452988128935393,2.422077426172895,2.4158954541720483,2.40048834338923,2.4348477395227843,2.4114757473749178,2.4589562573401382,2.428118308702458,2.41605759383068,2.408451503602111,2.3684033921255474,2.340445269602118,2.034403161424718,2.349370636150608,1.8742083655751534,1.9065623904209807,1.9945416353855772,1.903606864741525,1.9355228098075052,1.9286826353393092,1.8947855932452202,1.886864148621776,2.0057500362108276,1.745954396527469,1.8893213825628934,1.9292151112963836,1.8433948741262154,2.000454426125277,1.8912266878909838,1.8343017487912743,1.8207068494242724,1.8089996265432746,1.929908046580768,1.896869416710124,1.9335094124473706,1.797337238042687,1.9076141723058844,2.0123493681217868,1.853514363766864,2.2382394540088124,2.141697944103286,2.1642601006243782,2.026930111250754,2.1338136778056027,1.951276035615918,2.1261404840301243,1.9852589046567366,2.114881959025663,2.2469143014383057,2.116006542495038,2.0893869131695837,2.198135917637067,2.282436688751376,2.230804613345771,2.066534822818645,2.1261404840301243,2.1440386921038295,2.0002194578049344,2.2002007499934804,2.0672960548840242,2.211783823926094,2.2505372205281686,2.176873711229721,2.0727593846973686,4.104530451163705,4.029788291921518,4.133745911457582,4.120269124366206,4.186868274052558,3.962612675104525,4.133557513314301,4.128027104403198,4.200000339862158,4.122585367877398,4.187142558487168,4.312893337940231,4.136093156832321,4.193868370514506,4.189410684721322,4.132629959666592,4.44641575346685,4.204012529146548,4.306888733831629,4.126638381479602,4.33671191759181,4.179573661452793,3.9538847374737895,4.128027104403198,4.129367333969286,3.110694758409117,3.3097408075585864,3.313074266111473,3.4312796784936572,3.4684513939946386,3.07525925181535,3.1287677116071495,3.413924413213862,3.2450009857691877,3.0893724543265737,3.3565207457504584,3.1848587142552303,3.479186592232883,3.3409411602135997,3.413167503786243,3.3613219568734847,3.4145898872004277,3.2279636720892,3.4293090792062153,3.215135336160618,3.0510918095173167,3.4614497020205985,3.1885463522476387,3.4859636513681345,3.099276965795716,2.492371579596262,2.420806369363753,2.44896100680038,2.493244272475,2.457202114432708,2.456339111846299,2.4400449099445383,2.4862304023972586,2.347059447748996,2.508708743290777,2.45305498207133,2.4646972610724367,2.4475802555381456,2.414211358162934,2.4520300585231927,2.5050017536090703,2.455465733679083,2.4445025805596363,2.4088564473979095,2.5035662123404068,2.437437971847523,2.4723180520032564,2.451169954328723,2.4372150825425996,2.417083163129076,0.4866351126534338,0.5430639123965965,0.5771256978874376,0.5863089694611888,0.3910839759536597,0.6112618213147456,0.6500567479020071,0.35754528734270635,0.5322647370957116,0.7678027171366181,0.3983812111545587,0.5973149790725172,0.5156960147458765,0.42500704213858403,0.3134555116279123,0.5423440503463438,0.3973879408314616,0.42815686428266386,0.3410111132780408,0.4800141796245143,0.49670220130437454,0.47278795099434007,0.347625368408095,0.28938673715459035,0.8063216945887707,2.1888274654576576,2.4529747571067535,2.1471683579184746,2.234517407316981,2.0356236146228324,2.2934456200584914,2.2168440945297605,2.286142326798583,2.2061064528418988,2.1677554546168034,2.180380149013669,2.06330699520211,2.162681024761181,2.3348134635660793,2.293389613725966,2.395378782652849,2.296652402729369,2.2324762252531696,2.3000601860136496,2.280224367790611,2.269075808973095,2.345368799321027,2.174552632642729,2.341618182980901,2.053755522725048,3.0330028600922123,2.9833062812481557,3.0196743571065565,3.023028271752753,3.019257329022962,2.848026148710033,2.9182664116599066,3.0702233030546435,3.0330028600922123,2.8389890851407955,3.02247170427494,3.0199223321545268,3.086058529334622,3.172650471663664,3.0088651556014314,2.7770084345259116,2.77913013292666,3.003969708592273,2.8181724785906317,3.132738716130918,3.082749437668091,3.0171550288632245,2.830630274463356,3.0598888737388337,3.066437132889066,2.6833494521028753,2.7365216967593797,2.534592470282984,2.690037235843428,2.7878653133708955,2.8028885010920273,2.6467058482989416,2.876782200985261,2.9076929061308827,2.6703142550351253,2.688035767491157,2.8236530443845926,2.869724003109846,2.908386703896665,2.845925101155834,2.5852397688473756,2.8241895373849393,2.8028751913297736,2.6137539587509724,2.634436413131706,2.6704283176231947,2.8274436644222263,2.6766775002512286,2.700576622266982,2.668588390387456,0.2526143241127137,1.2748177530169311,1.057995263409321,0.8894216153167691,0.6414204021925937,0.8580293498885787,0.9476118269759045,0.5119904700503349,0.6779410687574919,1.030716439950674,1.0906389469369,0.9808664396055754,1.1142536418818905,0.6873358458002786,0.6098059950903543,1.0053310029131717,0.9763925112157996,0.6181366861922226,0.9839082672613657,0.9455603180362757,0.7859546211440309,1.1015620659770473,0.4819767595499108,0.8160265282465085,0.7071965552849473,2.105027012599038,2.058858088288098,2.110934474743039,2.19412421295847,1.9683352021498486,1.7974642972868904,1.9903697868077581,2.1113248110864213,1.6803320269849205,1.704500927349732,1.7493845163293085,1.934612654560862,1.982585983418319,2.066881843273274,2.0101540977495063,1.7414271270152186,2.017181824701846,1.870998966927027,2.1180580867423595,2.1054013752160996,1.9364370163730202,1.8250369008895173,2.002252371196492,2.1001548397966228,1.8266461983313416,1.861735182243602,1.53369035974522,1.4339032970525587,1.8249704941359155,1.3783371508874893,1.233383838334281,1.4758657420666745,1.8848279948295836,1.2182101273286552,1.463928411931715,1.4073451141741573,1.8126901185020075,1.4892041254803816,1.632027648281548,1.3542129582992832,1.6127529193182502,1.747407903341444,1.6140173044234596,1.5703926095176424,1.4522226097664184,1.3267795121098065,1.7699684494502983,1.716457203304997,1.783062315875314,1.251091863065869,2.5308870005792627,2.687286553308293,2.652653323648697,2.817981291068992,2.5668714876295966,2.5281325444079106,2.6256167719934616,2.7784285092983083,3.0761246428274713,2.9079555502750347,2.888903374686419,2.9712658472271793,2.6754179240140887,2.875579225733077,2.821111085507177,2.648959009024057,2.5097407610922837,2.7704840755901676,2.5582584898257528,2.5243631860528963,2.8737534088211256,2.5469178670361887,2.9226269245938856,2.5762239793018766,2.457739727433248],\"y\":[\"worries_anxieties\",\"worries_anxieties\",\"worries_anxieties\",\"worries_anxieties\",\"worries_anxieties\",\"worries_anxieties\",\"worries_anxieties\",\"worries_anxieties\",\"worries_anxieties\",\"worries_anxieties\",\"worries_anxieties\",\"worries_anxieties\",\"worries_anxieties\",\"worries_anxieties\",\"worries_anxieties\",\"worries_anxieties\",\"worries_anxieties\",\"worries_anxieties\",\"worries_anxieties\",\"worries_anxieties\",\"worries_anxieties\",\"worries_anxieties\",\"worries_anxieties\",\"worries_anxieties\",\"worries_anxieties\",\"vocational_training\",\"vocational_training\",\"vocational_training\",\"vocational_training\",\"vocational_training\",\"vocational_training\",\"vocational_training\",\"vocational_training\",\"vocational_training\",\"vocational_training\",\"vocational_training\",\"vocational_training\",\"vocational_training\",\"vocational_training\",\"vocational_training\",\"vocational_training\",\"vocational_training\",\"vocational_training\",\"vocational_training\",\"vocational_training\",\"vocational_training\",\"vocational_training\",\"vocational_training\",\"vocational_training\",\"vocational_training\",\"vague_non_specific\",\"vague_non_specific\",\"vague_non_specific\",\"vague_non_specific\",\"vague_non_specific\",\"vague_non_specific\",\"vague_non_specific\",\"vague_non_specific\",\"vague_non_specific\",\"vague_non_specific\",\"vague_non_specific\",\"vague_non_specific\",\"vague_non_specific\",\"vague_non_specific\",\"vague_non_specific\",\"vague_non_specific\",\"vague_non_specific\",\"vague_non_specific\",\"vague_non_specific\",\"vague_non_specific\",\"vague_non_specific\",\"vague_non_specific\",\"vague_non_specific\",\"vague_non_specific\",\"vague_non_specific\",\"vague_job\",\"vague_job\",\"vague_job\",\"vague_job\",\"vague_job\",\"vague_job\",\"vague_job\",\"vague_job\",\"vague_job\",\"vague_job\",\"vague_job\",\"vague_job\",\"vague_job\",\"vague_job\",\"vague_job\",\"vague_job\",\"vague_job\",\"vague_job\",\"vague_job\",\"vague_job\",\"vague_job\",\"vague_job\",\"vague_job\",\"vague_job\",\"vague_job\",\"secular\",\"secular\",\"secular\",\"secular\",\"secular\",\"secular\",\"secular\",\"secular\",\"secular\",\"secular\",\"secular\",\"secular\",\"secular\",\"secular\",\"secular\",\"secular\",\"secular\",\"secular\",\"secular\",\"secular\",\"secular\",\"secular\",\"secular\",\"secular\",\"secular\",\"religious\",\"religious\",\"religious\",\"religious\",\"religious\",\"religious\",\"religious\",\"religious\",\"religious\",\"religious\",\"religious\",\"religious\",\"religious\",\"religious\",\"religious\",\"religious\",\"religious\",\"religious\",\"religious\",\"religious\",\"religious\",\"religious\",\"religious\",\"religious\",\"religious\",\"reliance_on_god\",\"reliance_on_god\",\"reliance_on_god\",\"reliance_on_god\",\"reliance_on_god\",\"reliance_on_god\",\"reliance_on_god\",\"reliance_on_god\",\"reliance_on_god\",\"reliance_on_god\",\"reliance_on_god\",\"reliance_on_god\",\"reliance_on_god\",\"reliance_on_god\",\"reliance_on_god\",\"reliance_on_god\",\"reliance_on_god\",\"reliance_on_god\",\"reliance_on_god\",\"reliance_on_god\",\"reliance_on_god\",\"reliance_on_god\",\"reliance_on_god\",\"reliance_on_god\",\"reliance_on_god\",\"public_assistance\",\"public_assistance\",\"public_assistance\",\"public_assistance\",\"public_assistance\",\"public_assistance\",\"public_assistance\",\"public_assistance\",\"public_assistance\",\"public_assistance\",\"public_assistance\",\"public_assistance\",\"public_assistance\",\"public_assistance\",\"public_assistance\",\"public_assistance\",\"public_assistance\",\"public_assistance\",\"public_assistance\",\"public_assistance\",\"public_assistance\",\"public_assistance\",\"public_assistance\",\"public_assistance\",\"public_assistance\",\"no_ambition\",\"no_ambition\",\"no_ambition\",\"no_ambition\",\"no_ambition\",\"no_ambition\",\"no_ambition\",\"no_ambition\",\"no_ambition\",\"no_ambition\",\"no_ambition\",\"no_ambition\",\"no_ambition\",\"no_ambition\",\"no_ambition\",\"no_ambition\",\"no_ambition\",\"no_ambition\",\"no_ambition\",\"no_ambition\",\"no_ambition\",\"no_ambition\",\"no_ambition\",\"no_ambition\",\"no_ambition\",\"migration\",\"migration\",\"migration\",\"migration\",\"migration\",\"migration\",\"migration\",\"migration\",\"migration\",\"migration\",\"migration\",\"migration\",\"migration\",\"migration\",\"migration\",\"migration\",\"migration\",\"migration\",\"migration\",\"migration\",\"migration\",\"migration\",\"migration\",\"migration\",\"migration\",\"marriage\",\"marriage\",\"marriage\",\"marriage\",\"marriage\",\"marriage\",\"marriage\",\"marriage\",\"marriage\",\"marriage\",\"marriage\",\"marriage\",\"marriage\",\"marriage\",\"marriage\",\"marriage\",\"marriage\",\"marriage\",\"marriage\",\"marriage\",\"marriage\",\"marriage\",\"marriage\",\"marriage\",\"marriage\",\"job_secular\",\"job_secular\",\"job_secular\",\"job_secular\",\"job_secular\",\"job_secular\",\"job_secular\",\"job_secular\",\"job_secular\",\"job_secular\",\"job_secular\",\"job_secular\",\"job_secular\",\"job_secular\",\"job_secular\",\"job_secular\",\"job_secular\",\"job_secular\",\"job_secular\",\"job_secular\",\"job_secular\",\"job_secular\",\"job_secular\",\"job_secular\",\"job_secular\",\"entrepreneur\",\"entrepreneur\",\"entrepreneur\",\"entrepreneur\",\"entrepreneur\",\"entrepreneur\",\"entrepreneur\",\"entrepreneur\",\"entrepreneur\",\"entrepreneur\",\"entrepreneur\",\"entrepreneur\",\"entrepreneur\",\"entrepreneur\",\"entrepreneur\",\"entrepreneur\",\"entrepreneur\",\"entrepreneur\",\"entrepreneur\",\"entrepreneur\",\"entrepreneur\",\"entrepreneur\",\"entrepreneur\",\"entrepreneur\",\"entrepreneur\",\"education_religious\",\"education_religious\",\"education_religious\",\"education_religious\",\"education_religious\",\"education_religious\",\"education_religious\",\"education_religious\",\"education_religious\",\"education_religious\",\"education_religious\",\"education_religious\",\"education_religious\",\"education_religious\",\"education_religious\",\"education_religious\",\"education_religious\",\"education_religious\",\"education_religious\",\"education_religious\",\"education_religious\",\"education_religious\",\"education_religious\",\"education_religious\",\"education_religious\",\"education_neutral\",\"education_neutral\",\"education_neutral\",\"education_neutral\",\"education_neutral\",\"education_neutral\",\"education_neutral\",\"education_neutral\",\"education_neutral\",\"education_neutral\",\"education_neutral\",\"education_neutral\",\"education_neutral\",\"education_neutral\",\"education_neutral\",\"education_neutral\",\"education_neutral\",\"education_neutral\",\"education_neutral\",\"education_neutral\",\"education_neutral\",\"education_neutral\",\"education_neutral\",\"education_neutral\",\"education_neutral\",\"education_low\",\"education_low\",\"education_low\",\"education_low\",\"education_low\",\"education_low\",\"education_low\",\"education_low\",\"education_low\",\"education_low\",\"education_low\",\"education_low\",\"education_low\",\"education_low\",\"education_low\",\"education_low\",\"education_low\",\"education_low\",\"education_low\",\"education_low\",\"education_low\",\"education_low\",\"education_low\",\"education_low\",\"education_low\",\"education_high\",\"education_high\",\"education_high\",\"education_high\",\"education_high\",\"education_high\",\"education_high\",\"education_high\",\"education_high\",\"education_high\",\"education_high\",\"education_high\",\"education_high\",\"education_high\",\"education_high\",\"education_high\",\"education_high\",\"education_high\",\"education_high\",\"education_high\",\"education_high\",\"education_high\",\"education_high\",\"education_high\",\"education_high\",\"covid_impacts\",\"covid_impacts\",\"covid_impacts\",\"covid_impacts\",\"covid_impacts\",\"covid_impacts\",\"covid_impacts\",\"covid_impacts\",\"covid_impacts\",\"covid_impacts\",\"covid_impacts\",\"covid_impacts\",\"covid_impacts\",\"covid_impacts\",\"covid_impacts\",\"covid_impacts\",\"covid_impacts\",\"covid_impacts\",\"covid_impacts\",\"covid_impacts\",\"covid_impacts\",\"covid_impacts\",\"covid_impacts\",\"covid_impacts\",\"covid_impacts\",\"camp_regulations\",\"camp_regulations\",\"camp_regulations\",\"camp_regulations\",\"camp_regulations\",\"camp_regulations\",\"camp_regulations\",\"camp_regulations\",\"camp_regulations\",\"camp_regulations\",\"camp_regulations\",\"camp_regulations\",\"camp_regulations\",\"camp_regulations\",\"camp_regulations\",\"camp_regulations\",\"camp_regulations\",\"camp_regulations\",\"camp_regulations\",\"camp_regulations\",\"camp_regulations\",\"camp_regulations\",\"camp_regulations\",\"camp_regulations\",\"camp_regulations\",\"budget_low\",\"budget_low\",\"budget_low\",\"budget_low\",\"budget_low\",\"budget_low\",\"budget_low\",\"budget_low\",\"budget_low\",\"budget_low\",\"budget_low\",\"budget_low\",\"budget_low\",\"budget_low\",\"budget_low\",\"budget_low\",\"budget_low\",\"budget_low\",\"budget_low\",\"budget_low\",\"budget_low\",\"budget_low\",\"budget_low\",\"budget_low\",\"budget_low\",\"budget_high\",\"budget_high\",\"budget_high\",\"budget_high\",\"budget_high\",\"budget_high\",\"budget_high\",\"budget_high\",\"budget_high\",\"budget_high\",\"budget_high\",\"budget_high\",\"budget_high\",\"budget_high\",\"budget_high\",\"budget_high\",\"budget_high\",\"budget_high\",\"budget_high\",\"budget_high\",\"budget_high\",\"budget_high\",\"budget_high\",\"budget_high\",\"budget_high\",\"awareness_information_low\",\"awareness_information_low\",\"awareness_information_low\",\"awareness_information_low\",\"awareness_information_low\",\"awareness_information_low\",\"awareness_information_low\",\"awareness_information_low\",\"awareness_information_low\",\"awareness_information_low\",\"awareness_information_low\",\"awareness_information_low\",\"awareness_information_low\",\"awareness_information_low\",\"awareness_information_low\",\"awareness_information_low\",\"awareness_information_low\",\"awareness_information_low\",\"awareness_information_low\",\"awareness_information_low\",\"awareness_information_low\",\"awareness_information_low\",\"awareness_information_low\",\"awareness_information_low\",\"awareness_information_low\",\"awareness_information_high\",\"awareness_information_high\",\"awareness_information_high\",\"awareness_information_high\",\"awareness_information_high\",\"awareness_information_high\",\"awareness_information_high\",\"awareness_information_high\",\"awareness_information_high\",\"awareness_information_high\",\"awareness_information_high\",\"awareness_information_high\",\"awareness_information_high\",\"awareness_information_high\",\"awareness_information_high\",\"awareness_information_high\",\"awareness_information_high\",\"awareness_information_high\",\"awareness_information_high\",\"awareness_information_high\",\"awareness_information_high\",\"awareness_information_high\",\"awareness_information_high\",\"awareness_information_high\",\"awareness_information_high\",\"ability_low\",\"ability_low\",\"ability_low\",\"ability_low\",\"ability_low\",\"ability_low\",\"ability_low\",\"ability_low\",\"ability_low\",\"ability_low\",\"ability_low\",\"ability_low\",\"ability_low\",\"ability_low\",\"ability_low\",\"ability_low\",\"ability_low\",\"ability_low\",\"ability_low\",\"ability_low\",\"ability_low\",\"ability_low\",\"ability_low\",\"ability_low\",\"ability_low\",\"ability_high\",\"ability_high\",\"ability_high\",\"ability_high\",\"ability_high\",\"ability_high\",\"ability_high\",\"ability_high\",\"ability_high\",\"ability_high\",\"ability_high\",\"ability_high\",\"ability_high\",\"ability_high\",\"ability_high\",\"ability_high\",\"ability_high\",\"ability_high\",\"ability_high\",\"ability_high\",\"ability_high\",\"ability_high\",\"ability_high\",\"ability_high\",\"ability_high\"],\"type\":\"scatter\"}],                        {\"template\":{\"data\":{\"histogram2dcontour\":[{\"type\":\"histogram2dcontour\",\"colorbar\":{\"outlinewidth\":0,\"ticks\":\"\"},\"colorscale\":[[0.0,\"#0d0887\"],[0.1111111111111111,\"#46039f\"],[0.2222222222222222,\"#7201a8\"],[0.3333333333333333,\"#9c179e\"],[0.4444444444444444,\"#bd3786\"],[0.5555555555555556,\"#d8576b\"],[0.6666666666666666,\"#ed7953\"],[0.7777777777777778,\"#fb9f3a\"],[0.8888888888888888,\"#fdca26\"],[1.0,\"#f0f921\"]]}],\"choropleth\":[{\"type\":\"choropleth\",\"colorbar\":{\"outlinewidth\":0,\"ticks\":\"\"}}],\"histogram2d\":[{\"type\":\"histogram2d\",\"colorbar\":{\"outlinewidth\":0,\"ticks\":\"\"},\"colorscale\":[[0.0,\"#0d0887\"],[0.1111111111111111,\"#46039f\"],[0.2222222222222222,\"#7201a8\"],[0.3333333333333333,\"#9c179e\"],[0.4444444444444444,\"#bd3786\"],[0.5555555555555556,\"#d8576b\"],[0.6666666666666666,\"#ed7953\"],[0.7777777777777778,\"#fb9f3a\"],[0.8888888888888888,\"#fdca26\"],[1.0,\"#f0f921\"]]}],\"heatmap\":[{\"type\":\"heatmap\",\"colorbar\":{\"outlinewidth\":0,\"ticks\":\"\"},\"colorscale\":[[0.0,\"#0d0887\"],[0.1111111111111111,\"#46039f\"],[0.2222222222222222,\"#7201a8\"],[0.3333333333333333,\"#9c179e\"],[0.4444444444444444,\"#bd3786\"],[0.5555555555555556,\"#d8576b\"],[0.6666666666666666,\"#ed7953\"],[0.7777777777777778,\"#fb9f3a\"],[0.8888888888888888,\"#fdca26\"],[1.0,\"#f0f921\"]]}],\"heatmapgl\":[{\"type\":\"heatmapgl\",\"colorbar\":{\"outlinewidth\":0,\"ticks\":\"\"},\"colorscale\":[[0.0,\"#0d0887\"],[0.1111111111111111,\"#46039f\"],[0.2222222222222222,\"#7201a8\"],[0.3333333333333333,\"#9c179e\"],[0.4444444444444444,\"#bd3786\"],[0.5555555555555556,\"#d8576b\"],[0.6666666666666666,\"#ed7953\"],[0.7777777777777778,\"#fb9f3a\"],[0.8888888888888888,\"#fdca26\"],[1.0,\"#f0f921\"]]}],\"contourcarpet\":[{\"type\":\"contourcarpet\",\"colorbar\":{\"outlinewidth\":0,\"ticks\":\"\"}}],\"contour\":[{\"type\":\"contour\",\"colorbar\":{\"outlinewidth\":0,\"ticks\":\"\"},\"colorscale\":[[0.0,\"#0d0887\"],[0.1111111111111111,\"#46039f\"],[0.2222222222222222,\"#7201a8\"],[0.3333333333333333,\"#9c179e\"],[0.4444444444444444,\"#bd3786\"],[0.5555555555555556,\"#d8576b\"],[0.6666666666666666,\"#ed7953\"],[0.7777777777777778,\"#fb9f3a\"],[0.8888888888888888,\"#fdca26\"],[1.0,\"#f0f921\"]]}],\"surface\":[{\"type\":\"surface\",\"colorbar\":{\"outlinewidth\":0,\"ticks\":\"\"},\"colorscale\":[[0.0,\"#0d0887\"],[0.1111111111111111,\"#46039f\"],[0.2222222222222222,\"#7201a8\"],[0.3333333333333333,\"#9c179e\"],[0.4444444444444444,\"#bd3786\"],[0.5555555555555556,\"#d8576b\"],[0.6666666666666666,\"#ed7953\"],[0.7777777777777778,\"#fb9f3a\"],[0.8888888888888888,\"#fdca26\"],[1.0,\"#f0f921\"]]}],\"mesh3d\":[{\"type\":\"mesh3d\",\"colorbar\":{\"outlinewidth\":0,\"ticks\":\"\"}}],\"scatter\":[{\"fillpattern\":{\"fillmode\":\"overlay\",\"size\":10,\"solidity\":0.2},\"type\":\"scatter\"}],\"parcoords\":[{\"type\":\"parcoords\",\"line\":{\"colorbar\":{\"outlinewidth\":0,\"ticks\":\"\"}}}],\"scatterpolargl\":[{\"type\":\"scatterpolargl\",\"marker\":{\"colorbar\":{\"outlinewidth\":0,\"ticks\":\"\"}}}],\"bar\":[{\"error_x\":{\"color\":\"#2a3f5f\"},\"error_y\":{\"color\":\"#2a3f5f\"},\"marker\":{\"line\":{\"color\":\"#E5ECF6\",\"width\":0.5},\"pattern\":{\"fillmode\":\"overlay\",\"size\":10,\"solidity\":0.2}},\"type\":\"bar\"}],\"scattergeo\":[{\"type\":\"scattergeo\",\"marker\":{\"colorbar\":{\"outlinewidth\":0,\"ticks\":\"\"}}}],\"scatterpolar\":[{\"type\":\"scatterpolar\",\"marker\":{\"colorbar\":{\"outlinewidth\":0,\"ticks\":\"\"}}}],\"histogram\":[{\"marker\":{\"pattern\":{\"fillmode\":\"overlay\",\"size\":10,\"solidity\":0.2}},\"type\":\"histogram\"}],\"scattergl\":[{\"type\":\"scattergl\",\"marker\":{\"colorbar\":{\"outlinewidth\":0,\"ticks\":\"\"}}}],\"scatter3d\":[{\"type\":\"scatter3d\",\"line\":{\"colorbar\":{\"outlinewidth\":0,\"ticks\":\"\"}},\"marker\":{\"colorbar\":{\"outlinewidth\":0,\"ticks\":\"\"}}}],\"scattermapbox\":[{\"type\":\"scattermapbox\",\"marker\":{\"colorbar\":{\"outlinewidth\":0,\"ticks\":\"\"}}}],\"scatterternary\":[{\"type\":\"scatterternary\",\"marker\":{\"colorbar\":{\"outlinewidth\":0,\"ticks\":\"\"}}}],\"scattercarpet\":[{\"type\":\"scattercarpet\",\"marker\":{\"colorbar\":{\"outlinewidth\":0,\"ticks\":\"\"}}}],\"carpet\":[{\"aaxis\":{\"endlinecolor\":\"#2a3f5f\",\"gridcolor\":\"white\",\"linecolor\":\"white\",\"minorgridcolor\":\"white\",\"startlinecolor\":\"#2a3f5f\"},\"baxis\":{\"endlinecolor\":\"#2a3f5f\",\"gridcolor\":\"white\",\"linecolor\":\"white\",\"minorgridcolor\":\"white\",\"startlinecolor\":\"#2a3f5f\"},\"type\":\"carpet\"}],\"table\":[{\"cells\":{\"fill\":{\"color\":\"#EBF0F8\"},\"line\":{\"color\":\"white\"}},\"header\":{\"fill\":{\"color\":\"#C8D4E3\"},\"line\":{\"color\":\"white\"}},\"type\":\"table\"}],\"barpolar\":[{\"marker\":{\"line\":{\"color\":\"#E5ECF6\",\"width\":0.5},\"pattern\":{\"fillmode\":\"overlay\",\"size\":10,\"solidity\":0.2}},\"type\":\"barpolar\"}],\"pie\":[{\"automargin\":true,\"type\":\"pie\"}]},\"layout\":{\"autotypenumbers\":\"strict\",\"colorway\":[\"#636efa\",\"#EF553B\",\"#00cc96\",\"#ab63fa\",\"#FFA15A\",\"#19d3f3\",\"#FF6692\",\"#B6E880\",\"#FF97FF\",\"#FECB52\"],\"font\":{\"color\":\"#2a3f5f\"},\"hovermode\":\"closest\",\"hoverlabel\":{\"align\":\"left\"},\"paper_bgcolor\":\"white\",\"plot_bgcolor\":\"#E5ECF6\",\"polar\":{\"bgcolor\":\"#E5ECF6\",\"angularaxis\":{\"gridcolor\":\"white\",\"linecolor\":\"white\",\"ticks\":\"\"},\"radialaxis\":{\"gridcolor\":\"white\",\"linecolor\":\"white\",\"ticks\":\"\"}},\"ternary\":{\"bgcolor\":\"#E5ECF6\",\"aaxis\":{\"gridcolor\":\"white\",\"linecolor\":\"white\",\"ticks\":\"\"},\"baxis\":{\"gridcolor\":\"white\",\"linecolor\":\"white\",\"ticks\":\"\"},\"caxis\":{\"gridcolor\":\"white\",\"linecolor\":\"white\",\"ticks\":\"\"}},\"coloraxis\":{\"colorbar\":{\"outlinewidth\":0,\"ticks\":\"\"}},\"colorscale\":{\"sequential\":[[0.0,\"#0d0887\"],[0.1111111111111111,\"#46039f\"],[0.2222222222222222,\"#7201a8\"],[0.3333333333333333,\"#9c179e\"],[0.4444444444444444,\"#bd3786\"],[0.5555555555555556,\"#d8576b\"],[0.6666666666666666,\"#ed7953\"],[0.7777777777777778,\"#fb9f3a\"],[0.8888888888888888,\"#fdca26\"],[1.0,\"#f0f921\"]],\"sequentialminus\":[[0.0,\"#0d0887\"],[0.1111111111111111,\"#46039f\"],[0.2222222222222222,\"#7201a8\"],[0.3333333333333333,\"#9c179e\"],[0.4444444444444444,\"#bd3786\"],[0.5555555555555556,\"#d8576b\"],[0.6666666666666666,\"#ed7953\"],[0.7777777777777778,\"#fb9f3a\"],[0.8888888888888888,\"#fdca26\"],[1.0,\"#f0f921\"]],\"diverging\":[[0,\"#8e0152\"],[0.1,\"#c51b7d\"],[0.2,\"#de77ae\"],[0.3,\"#f1b6da\"],[0.4,\"#fde0ef\"],[0.5,\"#f7f7f7\"],[0.6,\"#e6f5d0\"],[0.7,\"#b8e186\"],[0.8,\"#7fbc41\"],[0.9,\"#4d9221\"],[1,\"#276419\"]]},\"xaxis\":{\"gridcolor\":\"white\",\"linecolor\":\"white\",\"ticks\":\"\",\"title\":{\"standoff\":15},\"zerolinecolor\":\"white\",\"automargin\":true,\"zerolinewidth\":2},\"yaxis\":{\"gridcolor\":\"white\",\"linecolor\":\"white\",\"ticks\":\"\",\"title\":{\"standoff\":15},\"zerolinecolor\":\"white\",\"automargin\":true,\"zerolinewidth\":2},\"scene\":{\"xaxis\":{\"backgroundcolor\":\"#E5ECF6\",\"gridcolor\":\"white\",\"linecolor\":\"white\",\"showbackground\":true,\"ticks\":\"\",\"zerolinecolor\":\"white\",\"gridwidth\":2},\"yaxis\":{\"backgroundcolor\":\"#E5ECF6\",\"gridcolor\":\"white\",\"linecolor\":\"white\",\"showbackground\":true,\"ticks\":\"\",\"zerolinecolor\":\"white\",\"gridwidth\":2},\"zaxis\":{\"backgroundcolor\":\"#E5ECF6\",\"gridcolor\":\"white\",\"linecolor\":\"white\",\"showbackground\":true,\"ticks\":\"\",\"zerolinecolor\":\"white\",\"gridwidth\":2}},\"shapedefaults\":{\"line\":{\"color\":\"#2a3f5f\"}},\"annotationdefaults\":{\"arrowcolor\":\"#2a3f5f\",\"arrowhead\":0,\"arrowwidth\":1},\"geo\":{\"bgcolor\":\"white\",\"landcolor\":\"#E5ECF6\",\"subunitcolor\":\"white\",\"showland\":true,\"showlakes\":true,\"lakecolor\":\"white\"},\"title\":{\"x\":0.05},\"mapbox\":{\"style\":\"light\"}}},\"yaxis\":{\"title\":{\"text\":\"Annotation\",\"standoff\":10},\"gridwidth\":0.75,\"gridcolor\":\"lightgray\",\"ticklen\":5,\"ticks\":\"outside\",\"dtick\":1,\"mirror\":true,\"showline\":true,\"linecolor\":\"black\",\"zeroline\":true,\"zerolinecolor\":\"lightgray\"},\"xaxis\":{\"title\":{\"text\":\"log F statistic\",\"standoff\":10},\"gridwidth\":0.75,\"gridcolor\":\"lightgray\",\"ticklen\":5,\"ticks\":\"outside\",\"dtick\":1,\"mirror\":true,\"showline\":true,\"linecolor\":\"black\",\"zeroline\":true,\"zerolinecolor\":\"lightgray\"},\"margin\":{\"pad\":0,\"l\":0,\"t\":100,\"r\":0,\"b\":100},\"title\":{\"font\":{\"size\":18,\"family\":\"Arial\"},\"text\":\"Figure 9: Interpretability test\",\"x\":0.5},\"legend\":{\"title\":{\"text\":\"Sample\",\"font\":{\"family\":\"Arial\"}},\"orientation\":\"v\"},\"width\":800,\"height\":800,\"plot_bgcolor\":\"white\"},                        {\"responsive\": true}                    ).then(function(){\n",
       "                            \n",
       "var gd = document.getElementById('58541ff3-c2ff-4af0-b239-7e9c7c8cbfbb');\n",
       "var x = new MutationObserver(function (mutations, observer) {{\n",
       "        var display = window.getComputedStyle(gd).display;\n",
       "        if (!display || display === 'none') {{\n",
       "            console.log([gd, 'removed!']);\n",
       "            Plotly.purge(gd);\n",
       "            observer.disconnect();\n",
       "        }}\n",
       "}});\n",
       "\n",
       "// Listen for the removal of the full notebook cells\n",
       "var notebookContainer = gd.closest('#notebook-container');\n",
       "if (notebookContainer) {{\n",
       "    x.observe(notebookContainer, {childList: true});\n",
       "}}\n",
       "\n",
       "// Listen for the clearing of the current output cell\n",
       "var outputEl = gd.closest('.output');\n",
       "if (outputEl) {{\n",
       "    x.observe(outputEl, {childList: true});\n",
       "}}\n",
       "\n",
       "                        })                };                });            </script>        </div>"
      ]
     },
     "metadata": {},
     "output_type": "display_data"
    }
   ],
   "source": [
    "fig = go.Figure()\n",
    "annotation_vars.sort()\n",
    "annotation_vars.reverse()\n",
    "\n",
    "#### Difference in F-statistic (Logarithmic) averages \n",
    "for annotation in annotation_vars:\n",
    "    enh_value, human_value = enhanced_avg_dict[annotation], human_avg_dict[annotation]\n",
    "    line_color = 'lightgreen' if enh_value>=human_value else 'red'\n",
    "        \n",
    "    difference_trace = go.Scatter(\n",
    "                 y=[annotation,annotation],\n",
    "                 x=[enh_value,human_value],\n",
    "                 mode='lines',                 \n",
    "                 line_color=line_color,        \n",
    "                 name='Difference',\n",
    "                 showlegend=False\n",
    "                )\n",
    "\n",
    "    fig.add_trace(difference_trace)\n",
    "\n",
    "    \n",
    "### Human Data F-statistic (Logarithmic) values\n",
    "human_trace = go.Scatter(\n",
    "                 y=interpret_data.loc[interpret_data['sample_type']=='Human','annotation'],\n",
    "                 x=interpret_data.loc[interpret_data['sample_type']=='Human','log_fstat'],\n",
    "                 mode='markers',\n",
    "                 marker=dict(\n",
    "                     size=10,line_width=1,color='black',symbol='cross-thin',\n",
    "                 ),\n",
    "                 name='Human'\n",
    "                )\n",
    "fig.add_trace(human_trace)\n",
    "\n",
    "### Enhanced Data  Log F-statistic values for all bootstrap runs\n",
    "enhanced_trace = go.Scatter(\n",
    "                 y=interpret_data.loc[interpret_data['sample_type']=='Enhanced','annotation'],\n",
    "                 x=interpret_data.loc[interpret_data['sample_type']=='Enhanced','log_fstat'],\n",
    "                 mode='markers',\n",
    "                 marker=dict(\n",
    "                     size=5,\n",
    "                     color='black',\n",
    "                     opacity=0.5,\n",
    "                     line_width=1,\n",
    "                     symbol='circle-open',\n",
    "                 ),\n",
    "                 name='Enhanced'\n",
    "                )\n",
    "\n",
    "fig.add_trace(enhanced_trace)\n",
    "\n",
    "\n",
    "\n",
    "fig.update_yaxes(title=dict(text='Annotation',standoff=10),\n",
    "                 gridwidth=0.75,gridcolor='lightgray',ticklen=5,ticks='outside',dtick=1,\n",
    "                 mirror=True,showline=True,linecolor='black', zeroline=True,zerolinecolor='lightgray'\n",
    "                )\n",
    "fig.update_xaxes(title=dict(text='log F statistic',standoff=10),\n",
    "                 gridwidth=0.75,gridcolor='lightgray',ticklen=5,ticks='outside',dtick=1,\n",
    "                 mirror=True,showline=True,linecolor='black', zeroline=True,zerolinecolor='lightgray'\n",
    "                )\n",
    "fig.update_layout(width=800,height=800,\n",
    "                  margin=dict(pad=0,l=0,t=100,r=0,b=100),\n",
    "                  title=dict(text='Figure 9: Interpretability test',x=0.5,font_size=18,font_family='Arial',),\n",
    "                  legend=dict(title='Sample',title_font_family=\"Arial\",orientation='v'),\n",
    "                  plot_bgcolor='white',  \n",
    "                  \n",
    "\n",
    "                 )"
   ]
  },
  {
   "cell_type": "code",
   "execution_count": null,
   "id": "71c6e651",
   "metadata": {},
   "outputs": [],
   "source": []
  },
  {
   "cell_type": "code",
   "execution_count": null,
   "id": "4ce1cd35",
   "metadata": {},
   "outputs": [],
   "source": []
  },
  {
   "cell_type": "code",
   "execution_count": null,
   "id": "0c95dea5",
   "metadata": {},
   "outputs": [],
   "source": []
  },
  {
   "cell_type": "code",
   "execution_count": null,
   "id": "bf658c84",
   "metadata": {},
   "outputs": [],
   "source": []
  }
 ],
 "metadata": {
  "kernelspec": {
   "display_name": "Python 3 (ipykernel)",
   "language": "python",
   "name": "python3"
  },
  "language_info": {
   "codemirror_mode": {
    "name": "ipython",
    "version": 3
   },
   "file_extension": ".py",
   "mimetype": "text/x-python",
   "name": "python",
   "nbconvert_exporter": "python",
   "pygments_lexer": "ipython3",
   "version": "3.9.6"
  }
 },
 "nbformat": 4,
 "nbformat_minor": 5
}
