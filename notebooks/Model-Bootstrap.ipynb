{
 "cells": [
  {
   "cell_type": "markdown",
   "id": "f1a813d7",
   "metadata": {},
   "source": [
    "> ### Imports"
   ]
  },
  {
   "cell_type": "code",
   "execution_count": 1,
   "id": "8eb77ef5",
   "metadata": {},
   "outputs": [],
   "source": [
    "import os\n",
    "import numpy as np\n",
    "import pandas as pd\n",
    "from sklearn.model_selection import train_test_split\n",
    "from iqual import nlpmodel, evaluation, crossval"
   ]
  },
  {
   "cell_type": "markdown",
   "id": "17a42bc8",
   "metadata": {},
   "source": [
    "> ### Load `annotated (human-coded)` and `unannotated` datasets"
   ]
  },
  {
   "cell_type": "code",
   "execution_count": 2,
   "id": "a7d035ab",
   "metadata": {},
   "outputs": [],
   "source": [
    "data_dir         = \"../data\"\n",
    "human_coded_df   = pd.read_csv(os.path.join(data_dir,\"annotated.csv\"))\n",
    "uncoded_df       = pd.read_csv(os.path.join(data_dir,\"unannotated.csv\"))"
   ]
  },
  {
   "cell_type": "markdown",
   "id": "f0ea3ad2",
   "metadata": {},
   "source": [
    "> ### Configure training data"
   ]
  },
  {
   "cell_type": "code",
   "execution_count": 3,
   "id": "ebffbf2c",
   "metadata": {},
   "outputs": [],
   "source": [
    "### Select Question and Answer Columns\n",
    "question_col = 'Q_en'\n",
    "answer_col   = 'A_en'\n",
    "\n",
    "### Select a code\n",
    "code_variables = ['religious', 'secular', 'no_ambition', 'vague_job',\n",
    "                  'job_secular','vocational_training', 'entrepreneur',\n",
    "                  'education_low','education_neutral', 'education_high',\n",
    "                  'education_religious', 'marriage', 'migration',\n",
    "                  'vague_non_specific', 'reliance_on_god', 'ability_high',\n",
    "                  'ability_low', 'budget_high', 'budget_low',\n",
    "                  'awareness_information_high','awareness_information_low',\n",
    "                  'camp_regulations', 'covid_impacts', 'public_assistance',\n",
    "                  'worries_anxieties',\n",
    "                 ]"
   ]
  },
  {
   "cell_type": "code",
   "execution_count": 4,
   "id": "e369c4e5",
   "metadata": {},
   "outputs": [],
   "source": [
    "# Scorig Dict for evaluation\n",
    "scoring_dict = evaluation.get_scoring_dict(['f1'])"
   ]
  },
  {
   "cell_type": "markdown",
   "id": "0e7ce910",
   "metadata": {},
   "source": [
    "> ### Configure a Hyperparameter Grid for cross-validation + fitting"
   ]
  },
  {
   "cell_type": "code",
   "execution_count": 6,
   "id": "f1317cc3",
   "metadata": {},
   "outputs": [],
   "source": [
    "## Paths for precomputed vectors created using `sentence-transformers`\n",
    "dict_dir          = \"../dictionaries\"\n",
    "\n",
    "### Sentence-Transformers precomputed vectors\n",
    "sbert_models      = [\"all-mpnet-base-v2\",\"distiluse-base-multilingual-cased-v2\"]\n",
    "sbert_model_paths = [os.path.join(dict_dir,m+'.pkl') for m in sbert_models]\n",
    "\n",
    "### Spacy precomputed vectors\n",
    "spacy_models      = [\"en_core_web_sm\"]\n",
    "spacy_model_paths = [os.path.join(dict_dir,m+'.pkl') for m in spacy_models]\n",
    "\n",
    "### All precomputed vectors\n",
    "model_paths = [*sbert_model_paths,*spacy_model_paths]"
   ]
  },
  {
   "cell_type": "code",
   "execution_count": 8,
   "id": "34243aae",
   "metadata": {},
   "outputs": [
    {
     "name": "stdout",
     "output_type": "stream",
     "text": [
      "Number of hyperparameter configurations: 504\n"
     ]
    }
   ],
   "source": [
    "PRETRAINED_QA_PARAMS = {\n",
    "    \"Input\":{\"question\":{\"vectorizer\":{\"model\":model_paths,\"env\":['saved-dictionary']}},\"answer\":{\"vectorizer\":{\"model\":model_paths,\"env\":['saved-dictionary']}}},\n",
    "}\n",
    "PRETRAINED_A_PARAMS = {\n",
    "    \"Input\":{\"question\":[\"drop\"],\"answer\":{\"vectorizer\":{\"model\":model_paths,\"env\":['saved-dictionary']}}},\n",
    "}\n",
    "\n",
    "SKLEARN_QA_PARAMS  = {\n",
    "    \"Input\":{\n",
    "        \"question\":{\"vectorizer\":{\"model\":['TfidfVectorizer','CountVectorizer'],\"env\":['scikit-learn'],'max_features':np.arange(1000,6500,1000)}},\n",
    "        \"answer\":{\"vectorizer\":{\"model\":['TfidfVectorizer','CountVectorizer'],\"env\":['scikit-learn'],'max_features':np.arange(1500,8500,500)}}\n",
    "    },    \n",
    "}\n",
    "SKLEARN_A_PARAMS  = {\n",
    "    \"Input\":{\n",
    "        \"question\":[\"drop\"],\n",
    "        \"answer\":{\"vectorizer\":{\"model\":['TfidfVectorizer','CountVectorizer'],\"env\":['scikit-learn'],'max_features':np.arange(1500,8500,500)}}\n",
    "    },    \n",
    "}\n",
    "LOGISTIC_PARAMS      = {\"Classifier\":{\"model\":[\"LogisticRegression\"],\"C\":[0.01,0.1],'penalty':['l1','l2'],'solver':['saga']}}\n",
    "RANDOM_FOREST_PARAMS = {\"Classifier\":{\"model\":[\"RandomForestClassifier\"],\"n_estimators\":[100,200],'max_depth':[5,10,25]}}\n",
    "SGD_PARAMS          = {\"Classifier\":{\"model\":[\"SGDClassifier\"],\"loss\":[\"hinge\",\"log\"],\"penalty\":[\"l2\",\"l1\"]}}\n",
    "SVM_PARAMS          = {\"Classifier\":{\"model\":[\"SVC\"],\"C\":[0.01,0.1],'kernel':['linear','rbf']}}\n",
    "KNN_PARAMS          = {\"Classifier\":{\"model\":[\"KNeighborsClassifier\"],\"n_neighbors\":[5,10,15],'weights':['uniform','distance'],'algorithm':['auto']}}\n",
    "MLP_PARAMS          = {\"Classifier\":{\"model\":[\"MLPClassifier\"],\"hidden_layer_sizes\":[(100,),(200,)],'activation':['relu','tanh'],'solver':['adam']}}\n",
    "\n",
    "VECTORIZATION_PARAMS  = [PRETRAINED_QA_PARAMS,PRETRAINED_A_PARAMS,SKLEARN_QA_PARAMS,SKLEARN_A_PARAMS]\n",
    "CLASSIFIER_PARAMS      = [LOGISTIC_PARAMS,RANDOM_FOREST_PARAMS,SGD_PARAMS,SVM_PARAMS,KNN_PARAMS,MLP_PARAMS]\n",
    "ALL_PARAM_COMBINATIONS = [{**vect_params, **clf_params} for vect_params in VECTORIZATION_PARAMS for clf_params in CLASSIFIER_PARAMS]\n",
    "CV_SEARCH_PARAMS = [crossval.convert_nested_params(p) for p in ALL_PARAM_COMBINATIONS]\n",
    "print(f\"Number of hyperparameter configurations: {crossval.count_hyperparameters(CV_SEARCH_PARAMS)}\")"
   ]
  },
  {
   "cell_type": "markdown",
   "id": "5250bd6d",
   "metadata": {},
   "source": [
    "> ## Model training:\n",
    "> Cross-validate over hyperparameters and select the best model"
   ]
  },
  {
   "cell_type": "code",
   "execution_count": 9,
   "id": "609da7d6",
   "metadata": {},
   "outputs": [],
   "source": [
    "NUM_BOOTSTRAP_RUNS = 10"
   ]
  },
  {
   "cell_type": "code",
   "execution_count": null,
   "id": "fa163fed",
   "metadata": {
    "scrolled": false
   },
   "outputs": [
    {
     "name": "stdout",
     "output_type": "stream",
     "text": [
      "Bootstrap 1 | Annotation: religious\n",
      ".......504 hyperparameters configurations possible.....\n",
      "\n",
      "\n",
      "Average F1 score for religious: 0.593\n",
      "\n",
      "Bootstrap 1 | Annotation: secular\n",
      ".......504 hyperparameters configurations possible.....\r"
     ]
    }
   ],
   "source": [
    "bootstrap_dfs = []\n",
    "fitted_models = {}\n",
    "\n",
    "for bootstrap_run in range(1,NUM_BOOTSTRAP_RUNS+1,1):\n",
    "    \n",
    "    fitted_models[bootstrap_run] = {}\n",
    "    \n",
    "    train_df, test_df = train_test_split(human_coded_df,test_size=0.25)\n",
    "    \n",
    "    train_df['split']   = 'train'\n",
    "    test_df['split']    = 'test'\n",
    "    uncoded_df['split'] = 'unannotated'\n",
    "    \n",
    "    boot_df = pd.concat([train_df,test_df,uncoded_df])\n",
    "    boot_df['bootstrap_run'] = bootstrap_run\n",
    "    \n",
    "    for code_var in code_variables:\n",
    "        \n",
    "        print(f\"Bootstrap {bootstrap_run} | Annotation: {code_var}\")\n",
    "        \n",
    "        ### Create X and y\n",
    "        X = train_df[[question_col,answer_col]]\n",
    "        y = train_df[code_var]\n",
    "\n",
    "        iqual_model = nlpmodel.NLPModel()\n",
    "        iqual_model.add_text_features(question_col,answer_col,model='TfidfVectorizer',env='scikit-learn')\n",
    "        iqual_model.add_classifier(name=\"LogisticRegression\")\n",
    "        iqual_model.add_threshold()\n",
    "        iqual_model.compile()\n",
    "        cv_dict = iqual_model.cross_validate_fit(\n",
    "            X,y,                                # X: Pandas DataFrame of features, y: Pandas Series of labels\n",
    "            search_parameters=CV_SEARCH_PARAMS, # search_parameters: Dictionary of parameters to use for cross-validation\n",
    "            cv_method='RandomizedSearchCV',     # cv_method: Cross-validation method to use, options: GridSearchCV, RandomizedSearchCV\n",
    "            n_iter=10,                          # n_iter: Only when cv_method='RandomizedSearchCV'\n",
    "            scoring=scoring_dict,               # scoring: Scoring metric to use for cross-validation    \n",
    "            refit='f1',                         # refit: Metric to use for refitting the model\n",
    "            n_jobs=-1,                          # n_jobs: Number of parallel threads to use  \n",
    "            cv_splits=3,                        # cv_splits: Number of cross-validation splits\n",
    "        )\n",
    "        print()\n",
    "        \n",
    "        print(\"\\n\\nAverage F1 score for {code_var}: {score:.3f}\".format(code_var=code_var,score=cv_dict['avg_test_score']),end='\\n\\n')\n",
    "\n",
    "        boot_df[code_var+\"_pred\"]  = iqual_model.predict(boot_df[['Q_en','A_en']])        \n",
    "        fitted_models[bootstrap_run][code_var] = iqual_model\n",
    "    \n",
    "    # Append after each bootstrap run\n",
    "    bootstrap_dfs.append(boot_df)\n",
    "    \n",
    "bootstrap_data = pd.concat(bootstrap_dfs,axis=0)"
   ]
  },
  {
   "cell_type": "code",
   "execution_count": null,
   "id": "5d049500",
   "metadata": {},
   "outputs": [],
   "source": []
  },
  {
   "cell_type": "code",
   "execution_count": null,
   "id": "95473f25",
   "metadata": {},
   "outputs": [],
   "source": []
  },
  {
   "cell_type": "code",
   "execution_count": null,
   "id": "5a898542",
   "metadata": {},
   "outputs": [],
   "source": []
  },
  {
   "cell_type": "code",
   "execution_count": null,
   "id": "b47a7e4d",
   "metadata": {},
   "outputs": [],
   "source": []
  },
  {
   "cell_type": "code",
   "execution_count": null,
   "id": "6ebda946",
   "metadata": {},
   "outputs": [],
   "source": []
  }
 ],
 "metadata": {
  "kernelspec": {
   "display_name": "Python 3 (ipykernel)",
   "language": "python",
   "name": "python3"
  },
  "language_info": {
   "codemirror_mode": {
    "name": "ipython",
    "version": 3
   },
   "file_extension": ".py",
   "mimetype": "text/x-python",
   "name": "python",
   "nbconvert_exporter": "python",
   "pygments_lexer": "ipython3",
   "version": "3.8.16"
  },
  "widgets": {
   "application/vnd.jupyter.widget-state+json": {
    "state": {},
    "version_major": 2,
    "version_minor": 0
   }
  }
 },
 "nbformat": 4,
 "nbformat_minor": 5
}
