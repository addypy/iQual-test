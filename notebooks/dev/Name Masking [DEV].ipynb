{
 "cells": [
  {
   "cell_type": "code",
   "execution_count": 1,
   "id": "6c3d1450",
   "metadata": {},
   "outputs": [],
   "source": [
    "from tqdm.notebook import tqdm"
   ]
  },
  {
   "cell_type": "code",
   "execution_count": 5,
   "id": "0ab8ce7e",
   "metadata": {},
   "outputs": [],
   "source": [
    "import spacy\n",
    "import neuralcoref\n",
    "nlp = spacy.load('en_core_web_lg')\n",
    "#neuralcoref.add_to_pipe(nlp,blacklist=False)"
   ]
  },
  {
   "cell_type": "code",
   "execution_count": 59,
   "id": "d962e3dd",
   "metadata": {},
   "outputs": [
    {
     "data": {
      "text/plain": [
       "<spacy.lang.en.English at 0x1a2a1c04c10>"
      ]
     },
     "execution_count": 59,
     "metadata": {},
     "output_type": "execute_result"
    }
   ],
   "source": [
    "neuralcoref.add_to_pipe(nlp,blacklist=False)"
   ]
  },
  {
   "cell_type": "code",
   "execution_count": 6,
   "id": "84a51572",
   "metadata": {},
   "outputs": [],
   "source": [
    "import os\n",
    "import sys\n",
    "import random\n",
    "import numpy as np\n",
    "import pandas as pd\n",
    "\n",
    "git_dir = r\"C:/Users/Aditya/GitHub/isquash\"\n",
    "#git_dir = \"/Users/adityachhabra/Github/isquash\"\n",
    "sys.path.append(git_dir)\n",
    "sys.path.append(os.path.join(git_dir,'isquash'))\n",
    "pd.set_option('display.max_columns',500)"
   ]
  },
  {
   "cell_type": "code",
   "execution_count": 7,
   "id": "135430fa",
   "metadata": {},
   "outputs": [],
   "source": [
    "from isquash import nlpmodel, preprocessing, evaluation,crossval"
   ]
  },
  {
   "cell_type": "code",
   "execution_count": 8,
   "id": "b0c982d6",
   "metadata": {},
   "outputs": [],
   "source": [
    "human_coded_df   = pd.read_csv(\"data/annotated.csv\")\n",
    "uncoded_df       = pd.read_csv(\"data/unannotated.csv\")"
   ]
  },
  {
   "cell_type": "code",
   "execution_count": 9,
   "id": "c4a21472",
   "metadata": {},
   "outputs": [],
   "source": [
    "path = r\"C:/Users/Aditya/Github/NLPQualToolkit/datasets/aspirations_r2_r3_v5.csv\""
   ]
  },
  {
   "cell_type": "code",
   "execution_count": 10,
   "id": "9c004d99",
   "metadata": {},
   "outputs": [],
   "source": [
    "df = pd.read_csv(path)"
   ]
  },
  {
   "cell_type": "code",
   "execution_count": 11,
   "id": "d6897d42",
   "metadata": {},
   "outputs": [],
   "source": [
    "transcript_dict = {g:\"\\n\".join(gdf[['Q_en','A_en']].apply(\" \".join,axis=1).values) for g, gdf in df.groupby('uid')}"
   ]
  },
  {
   "cell_type": "code",
   "execution_count": 12,
   "id": "06783a6c",
   "metadata": {},
   "outputs": [],
   "source": [
    "def get_corefs(doc):\n",
    "    pronouns = ['he','she','i','her','him','his','you','your','me','myself','my','they']\n",
    "    all_names = []\n",
    "    \n",
    "    for coreference in doc._.coref_clusters:\n",
    "        mentions = [token.text for token in coreference.mentions]\n",
    "        #if m.text.lower() not in ['he']\n",
    "        mentions = list(set([m for m in mentions if m.lower() not in pronouns]))\n",
    "        if len(mentions)>0:\n",
    "            all_names.append(mentions)\n",
    "    return all_names"
   ]
  },
  {
   "cell_type": "code",
   "execution_count": 76,
   "id": "ba450acd",
   "metadata": {},
   "outputs": [],
   "source": [
    "def get_ents(doc):\n",
    "    entities = []\n",
    "    coref_clusters = doc._.coref_clusters\n",
    "    for cluster in coref_clusters:\n",
    "        for token in cluster.mentions:\n",
    "            entities.extend([{'text':token.text,'type':token.label_} for token in  token.ents])    \n",
    "    return entities"
   ]
  },
  {
   "cell_type": "code",
   "execution_count": 77,
   "id": "df40a6cd",
   "metadata": {
    "scrolled": false
   },
   "outputs": [
    {
     "data": {
      "application/vnd.jupyter.widget-view+json": {
       "model_id": "61bfd5b9fe8f4e298edcf96c69d02bbd",
       "version_major": 2,
       "version_minor": 0
      },
      "text/plain": [
       "  0%|          | 0/2407 [00:00<?, ?it/s]"
      ]
     },
     "metadata": {},
     "output_type": "display_data"
    }
   ],
   "source": [
    "pbar = tqdm(total=len(transcript_dict))\n",
    "ENTITIES = []\n",
    "for uid, transcript in transcript_dict.items():\n",
    "    doc = nlp(transcript)\n",
    "    ENTITIES.extend(get_ents(doc))\n",
    "    pbar.update(1)"
   ]
  },
  {
   "cell_type": "code",
   "execution_count": 78,
   "id": "b69c8ff5",
   "metadata": {},
   "outputs": [],
   "source": [
    "data = pd.DataFrame(ENTITIES)"
   ]
  },
  {
   "cell_type": "code",
   "execution_count": 84,
   "id": "aeeefbf0",
   "metadata": {},
   "outputs": [],
   "source": [
    "entity_df = pd.DataFrame(data.groupby(['text','type']).value_counts(),columns=['count']).reset_index()"
   ]
  },
  {
   "cell_type": "code",
   "execution_count": 171,
   "id": "304bdf8e",
   "metadata": {},
   "outputs": [],
   "source": [
    "entity_path = r\"C:/Users/Aditya/Desktop/entity_data.xlsx\""
   ]
  },
  {
   "cell_type": "raw",
   "id": "2b72ecc5",
   "metadata": {},
   "source": [
    "entity_df.to_excel(entity_path,index=False)"
   ]
  },
  {
   "cell_type": "code",
   "execution_count": 194,
   "id": "d3160b3b",
   "metadata": {},
   "outputs": [],
   "source": [
    "df = pd.read_excel(entity_path)"
   ]
  },
  {
   "cell_type": "code",
   "execution_count": 195,
   "id": "d92c6f3d",
   "metadata": {},
   "outputs": [
    {
     "data": {
      "text/plain": [
       "PERSON      3153\n",
       "ORG          271\n",
       "LOCATION     153\n",
       "NORP          56\n",
       "DATE           1\n",
       "Name: type, dtype: int64"
      ]
     },
     "execution_count": 195,
     "metadata": {},
     "output_type": "execute_result"
    }
   ],
   "source": [
    "df['type'].value_counts()"
   ]
  },
  {
   "cell_type": "code",
   "execution_count": 196,
   "id": "52399eb9",
   "metadata": {},
   "outputs": [],
   "source": [
    "word_replacements = {k:\"[\"+v+\"]\" for k,v in dict(df[['text','type']].values).items() }"
   ]
  },
  {
   "cell_type": "code",
   "execution_count": 197,
   "id": "6b7b3142",
   "metadata": {},
   "outputs": [],
   "source": [
    "doc = nlp(transcript)"
   ]
  },
  {
   "cell_type": "code",
   "execution_count": 198,
   "id": "ade22cbb",
   "metadata": {},
   "outputs": [],
   "source": [
    "import difflib"
   ]
  },
  {
   "cell_type": "code",
   "execution_count": 199,
   "id": "65af7932",
   "metadata": {},
   "outputs": [],
   "source": [
    "import re"
   ]
  },
  {
   "cell_type": "code",
   "execution_count": 200,
   "id": "5bdcb60b",
   "metadata": {},
   "outputs": [],
   "source": [
    "def replace_contractions(text,contractions):\n",
    "    \"\"\"\n",
    "    Replaces all contractions in strings\n",
    "    \"\"\"\n",
    "    for c in contractions:\n",
    "        text = re.sub(r\"\\b{}\\b\".format(c),contractions[c],text)        \n",
    "    return text"
   ]
  },
  {
   "cell_type": "code",
   "execution_count": 204,
   "id": "6ddd7121",
   "metadata": {},
   "outputs": [],
   "source": [
    "word_reps = {}\n",
    "for k in sorted(word_replacements, key=len, reverse=True):\n",
    "    word_reps[k] = word_replacements[k]\n"
   ]
  },
  {
   "cell_type": "code",
   "execution_count": 214,
   "id": "2b0a5525",
   "metadata": {},
   "outputs": [
    {
     "name": "stdout",
     "output_type": "stream",
     "text": [
      "Okay then. Is your son Ziaul Rahman 17 years old?\n"
     ]
    }
   ],
   "source": [
    "transcript = human_coded_df['Q_en'].sample(1).values[0]\n",
    "print(transcript)"
   ]
  },
  {
   "cell_type": "code",
   "execution_count": 215,
   "id": "628d4490",
   "metadata": {},
   "outputs": [
    {
     "name": "stdout",
     "output_type": "stream",
     "text": [
      "Okay then. Is your son [PERSON] 17 years old?\n"
     ]
    }
   ],
   "source": [
    "print(replace_contractions(transcript,word_reps))"
   ]
  },
  {
   "cell_type": "code",
   "execution_count": null,
   "id": "662be1e2",
   "metadata": {},
   "outputs": [],
   "source": []
  },
  {
   "cell_type": "code",
   "execution_count": null,
   "id": "26bcc29b",
   "metadata": {},
   "outputs": [],
   "source": []
  },
  {
   "cell_type": "code",
   "execution_count": null,
   "id": "b2376e17",
   "metadata": {},
   "outputs": [],
   "source": []
  },
  {
   "cell_type": "code",
   "execution_count": null,
   "id": "5d1ff7f7",
   "metadata": {},
   "outputs": [],
   "source": []
  }
 ],
 "metadata": {
  "kernelspec": {
   "display_name": "Python 3 (ipykernel)",
   "language": "python",
   "name": "python3"
  },
  "language_info": {
   "codemirror_mode": {
    "name": "ipython",
    "version": 3
   },
   "file_extension": ".py",
   "mimetype": "text/x-python",
   "name": "python",
   "nbconvert_exporter": "python",
   "pygments_lexer": "ipython3",
   "version": "3.8.13"
  }
 },
 "nbformat": 4,
 "nbformat_minor": 5
}
